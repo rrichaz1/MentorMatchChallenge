{
 "cells": [
  {
   "cell_type": "code",
   "execution_count": null,
   "id": "5039634c",
   "metadata": {},
   "outputs": [],
   "source": [
    "import pandas as pd\n",
    "import numpy as np\n",
    "from utils import *\n"
   ]
  },
  {
   "cell_type": "code",
   "execution_count": null,
   "id": "49f343c5",
   "metadata": {},
   "outputs": [],
   "source": [
    "#pip install sentence-transformers"
   ]
  },
  {
   "cell_type": "markdown",
   "id": "64410b7e",
   "metadata": {},
   "source": [
    "Load the datasets - Mentor/Mentee/Circle"
   ]
  },
  {
   "cell_type": "code",
   "execution_count": null,
   "id": "d87afe72",
   "metadata": {},
   "outputs": [],
   "source": [
    "Mentee_df = pd.read_excel('../data/Mentee-obfuscated-dataset-1.xlsx', engine='openpyxl')"
   ]
  },
  {
   "cell_type": "code",
   "execution_count": null,
   "id": "8f0bc4ed",
   "metadata": {},
   "outputs": [],
   "source": [
    "Mentee_df.columns"
   ]
  },
  {
   "cell_type": "code",
   "execution_count": null,
   "id": "7de15ac8",
   "metadata": {},
   "outputs": [],
   "source": [
    "Mentor_df = pd.read_excel('../data/Mentor-obfuscated-dataset-1.xlsx', engine='openpyxl')"
   ]
  },
  {
   "cell_type": "code",
   "execution_count": null,
   "id": "04065805",
   "metadata": {},
   "outputs": [],
   "source": [
    "Mentor_df.columns"
   ]
  },
  {
   "cell_type": "code",
   "execution_count": null,
   "id": "a6c07807",
   "metadata": {},
   "outputs": [],
   "source": [
    "Circle_df = pd.read_excel('../data/CircleResult.xlsx', engine='openpyxl')"
   ]
  },
  {
   "cell_type": "code",
   "execution_count": null,
   "id": "571934d4",
   "metadata": {},
   "outputs": [],
   "source": [
    "#Circle_df.head()"
   ]
  },
  {
   "cell_type": "code",
   "execution_count": null,
   "id": "1db0dc8c",
   "metadata": {},
   "outputs": [],
   "source": [
    "list(Circle_df.columns)"
   ]
  },
  {
   "cell_type": "markdown",
   "id": "b27a1337",
   "metadata": {},
   "source": [
    "Select only 3 columns"
   ]
  },
  {
   "cell_type": "code",
   "execution_count": null,
   "id": "471ad5e0",
   "metadata": {},
   "outputs": [],
   "source": [
    "Circle_basic_df = Circle_df[['Circle','Mentor_ID','Mentee_ID']]"
   ]
  },
  {
   "cell_type": "code",
   "execution_count": null,
   "id": "7d4e4c06",
   "metadata": {},
   "outputs": [],
   "source": [
    "#Circle_basic_df.head()\n",
    "n = Circle_df.Mentee_Email.nunique()\n",
    "  \n",
    "print(\"No.of.unique values \",n)"
   ]
  },
  {
   "cell_type": "code",
   "execution_count": null,
   "id": "7d1d52c1",
   "metadata": {},
   "outputs": [],
   "source": [
    "Cicle_basic_sorted_df = Circle_basic_df.sort_values(by=['Circle','Mentor_ID','Mentee_ID'], inplace=False, ignore_index= True)"
   ]
  },
  {
   "cell_type": "markdown",
   "id": "5ba48e4d",
   "metadata": {},
   "source": [
    "For each circle row, get the mentor and mentee information and create a detail dataframe\n",
    "\n",
    "• Organization/Department - Mentor and Mentee should not be in same Department. \n",
    "• Time Zones – Fit circles into similar time zones. Find difference of timezone between mentor and mentee\n",
    "• Grade Levels/Mentor Circle Levels – Anyone Grade level less than 28 should not be considered a mentor.\n",
    "• CLL Sort – Mentors strengths match the Mentees growth areas.\n",
    "• Areas of interest – Maximum match on areas of interest within a circle.\n",
    "• Circle size –The number of mentees a mentor has. The circles should be close in size.\n",
    "• Mentor grade error if mentor grade < 28\n",
    "\n",
    "\n"
   ]
  },
  {
   "cell_type": "code",
   "execution_count": null,
   "id": "c39594d4",
   "metadata": {},
   "outputs": [],
   "source": [
    "Result_Dictionary={}\n",
    "Result_DF = pd.DataFrame()"
   ]
  },
  {
   "cell_type": "code",
   "execution_count": null,
   "id": "c0ca7c5c",
   "metadata": {},
   "outputs": [],
   "source": [
    "Cicle_basic_sorted_dfdict = Cicle_basic_sorted_df.to_dict('records')\n",
    "for  circle_row in Cicle_basic_sorted_dfdict:\n",
    "    mentorId = circle_row['Mentor_ID']\n",
    "    menteeId = circle_row['Mentee_ID']\n",
    "    if (np.isnan(mentorId) or mentorId ==' ' or np.isnan(menteeId) or menteeId ==' '):\n",
    "        continue\n",
    "    else:        \n",
    "        mentor_row = Mentor_df[Mentor_df['Mentor_ID'] ==circle_row['Mentor_ID'] ]\n",
    "        mentee_row = Mentee_df[Mentee_df['Mentee_ID'] ==circle_row['Mentee_ID'] ]\n",
    "\n",
    "        print(circle_row)\n",
    "        result = validate_mentormentee(mentor_row, mentee_row, circle_row)\n",
    "        result['Mentor_Email'] = mentor_row['Mentor_Email'].iloc[0]\n",
    "        result['Mentee_Email'] = mentee_row['Mentee_Email'].iloc[0]\n",
    "        Result_DF = Result_DF.append(result, ignore_index=True)\n",
    "    "
   ]
  },
  {
   "cell_type": "code",
   "execution_count": null,
   "id": "6c2483f8",
   "metadata": {},
   "outputs": [],
   "source": [
    "Result_DF.head()"
   ]
  },
  {
   "cell_type": "markdown",
   "id": "ac48e701",
   "metadata": {},
   "source": [
    "Create a summary dataframe  \n",
    "• Count of members in cicle\n",
    "• Min Max on interests, CLL sort\n",
    "• Count of departments in cicle"
   ]
  },
  {
   "cell_type": "code",
   "execution_count": null,
   "id": "b8c09cff",
   "metadata": {},
   "outputs": [],
   "source": [
    "\n",
    "# Groupby multiple columns & multiple aggregations\n",
    "grouped = Result_DF.groupby('Circle').aggregate({'Mentor_ID':['count','nunique'],'Mentee_ID':['count','nunique'],'Mentee_TimeZoneNum':['min','max'], 'Mentor_Eligible_Error':'sum', 'MentorMentee_Grade_Error':'sum','MentorMentee_DeptError':'sum','Mentee_Department':'nunique','Goal_Similarity':['min','max'],'Mentee_Grade':['min','max'],'Mentee_TimeZoneNum':['min','max'],'Mentor_Mentee_TimeZoneDist':['min','max'],'MentorMentee_CLL_Growth':['min','max'],'MentorMentee_Circle_Error':['sum'],'MentorMentee_Common_Interests':['min','max']})\n",
    "regroup_DF = grouped.reset_index()\n",
    "regroup_DF.head()"
   ]
  },
  {
   "cell_type": "markdown",
   "id": "3afd5946",
   "metadata": {},
   "source": [
    "Calculate Circle level Penalty and Bonus\n",
    "\n",
    "• Organization/Department - To encourage networking the circles mentees from the same organization should be split between different circles. Mentor and Mentee should not be in same Department.\n",
    "• Time Zones – Fit circles into similar time zones or within 2-hour differences. *International participants placed in eastern time zone groups.\n",
    "• Grade Levels/Mentor Circle Levels – Should not have more than three grade levels between participants. Appropriate grade level grouping of mentor and mentees. Circles should not have both Early Career and Mid Career members.\n",
    "Anyone Grade level less than 28 should not be considered a mentor.\n",
    "• CLL Sort – Mentors strengths match the Mentees growth areas.\n",
    "• Areas of interest – Maximum match on areas of interest within a circle.\n",
    "• Circle size –The number of mentees a mentor has. The circles should be close in size.\n"
   ]
  },
  {
   "cell_type": "code",
   "execution_count": null,
   "id": "6c705a15",
   "metadata": {},
   "outputs": [],
   "source": [
    "#Set Base Score as 100\n",
    "Base_Score = 100"
   ]
  },
  {
   "cell_type": "markdown",
   "id": "f4892b5a",
   "metadata": {},
   "source": [
    " Create Circle summary score and explanation`"
   ]
  },
  {
   "cell_type": "code",
   "execution_count": null,
   "id": "9805e4bd",
   "metadata": {},
   "outputs": [],
   "source": [
    "\n",
    "Mentee_Department_In_Circle_Error_Group = Result_DF.groupby(['Circle', 'Mentee_Department']).filter(lambda x: len(x) >= 2).Circle.unique()\n"
   ]
  },
  {
   "cell_type": "code",
   "execution_count": null,
   "id": "76716ac7",
   "metadata": {},
   "outputs": [],
   "source": [
    "Circle_Penalty, Circle_Bonus,  Circle_Summary_DF = calculateCircleLevelScore(regroup_DF, Mentee_Department_In_Circle_Error_Group)\n"
   ]
  },
  {
   "cell_type": "code",
   "execution_count": null,
   "id": "a80170e3",
   "metadata": {},
   "outputs": [],
   "source": [
    "Circle_Summary_DF"
   ]
  },
  {
   "cell_type": "code",
   "execution_count": null,
   "id": "70da7273",
   "metadata": {},
   "outputs": [],
   "source": [
    "Circle_Summary_DF.columns"
   ]
  },
  {
   "cell_type": "code",
   "execution_count": null,
   "id": "215afbac",
   "metadata": {},
   "outputs": [],
   "source": [
    "print(\"Circle score is \",Circle_Bonus, Circle_Penalty)"
   ]
  },
  {
   "cell_type": "markdown",
   "id": "37a3eba6",
   "metadata": {},
   "source": [
    "Create high level statistics for easier evaluation of bonus and penalty points\n",
    "\n",
    "Penalty points:\n",
    "    Circle size > 10\n",
    "    Mentor and mentee are in same department\n",
    "    Number of mentees not matched to any mentor\n",
    "Bonus Points\n",
    "    Timezone \n",
    "    Grade Level distance <= 3\n",
    "    Drop mentors with grade level < 28\n",
    "      \n",
    "      \n",
    "• Max - Min circle size\n",
    "• Circle Size > 10\n",
    "• Number of mentees not in any circle\n",
    "• Number of mentors not in any circle\n",
    "• Duplicate entry for mentee"
   ]
  },
  {
   "cell_type": "code",
   "execution_count": null,
   "id": "1696f985",
   "metadata": {},
   "outputs": [],
   "source": [
    "#Get High Level Score \n",
    "(Summary_Score, Summary_Results) = createSummary(Result_DF, regroup_DF)\n"
   ]
  },
  {
   "cell_type": "code",
   "execution_count": null,
   "id": "f32526f6",
   "metadata": {},
   "outputs": [],
   "source": [
    "##Find unassigned mentors, mentees\n",
    "unassignedMentees = set(Mentee_df.Mentee_Email).difference(set(Result_DF.Mentee_Email))\n",
    "unassignedMentors = set(Mentor_df.Mentor_Email).difference(set(Result_DF.Mentor_Email))\n",
    "Summary_Results['Unassigned Mentees']=\";\".join(unassignedMentees)\n",
    "Summary_Results['Number of Unassigned Mentees']=len(unassignedMentees)\n",
    "Summary_Results['Unassigned Mentors']=\";\".join(unassignedMentors)\n",
    "Summary_Results['Number of Unassigned Mentors']=len(unassignedMentors)"
   ]
  },
  {
   "cell_type": "code",
   "execution_count": null,
   "id": "724cc554",
   "metadata": {},
   "outputs": [],
   "source": [
    "#Add scores to Summary Results\n",
    "Final_Score = Base_Score + Circle_Bonus + Circle_Penalty + Summary_Score\n",
    "Summary_Results['Base Score'] = Base_Score\n",
    "Summary_Results['Circle Level Bonus'] = Circle_Bonus\n",
    "Summary_Results['Circle Level Penalty'] = Circle_Penalty\n",
    "Summary_Results['Summary Level Score'] = Summary_Score\n",
    "\n",
    "Summary_Results['Final Score'] = Final_Score"
   ]
  },
  {
   "cell_type": "code",
   "execution_count": null,
   "id": "cf085b38",
   "metadata": {},
   "outputs": [],
   "source": [
    "Summary_Results_DF = pd.DataFrame.from_dict(data=Summary_Results, orient='index', columns=['Result'])\n",
    "\n"
   ]
  },
  {
   "cell_type": "markdown",
   "id": "86e6d3e3",
   "metadata": {},
   "source": [
    "https://towardsdatascience.com/5-pandas-group-by-tricks-you-should-know-in-python-f53246c92c94"
   ]
  },
  {
   "cell_type": "code",
   "execution_count": null,
   "id": "c034acdd",
   "metadata": {},
   "outputs": [],
   "source": [
    "#Summary_Results_DF.columns"
   ]
  },
  {
   "cell_type": "code",
   "execution_count": null,
   "id": "4388889c",
   "metadata": {},
   "outputs": [],
   "source": [
    "Summary_Results_DF.index = Summary_Results_DF.index.set_names('Category')\n",
    " \n",
    "Summary_Results_DF.reset_index().head()"
   ]
  },
  {
   "cell_type": "code",
   "execution_count": null,
   "id": "061b4357",
   "metadata": {},
   "outputs": [],
   "source": [
    "# Create a Pandas Excel writer using XlsxWriter as the engine.\n",
    "writer = pd.ExcelWriter('pandas_multiple.xlsx', engine='xlsxwriter')\n",
    "\n",
    "# Write each dataframe to a different worksheet.\n",
    "Summary_Results_DF.to_excel(writer, sheet_name='highlevelsummary', header='False')\n",
    "Circle_Summary_DF.to_excel(writer, sheet_name='circlesummary')\n",
    "Result_DF.to_excel(writer, sheet_name='detail')\n",
    "\n",
    "writer.close()"
   ]
  },
  {
   "cell_type": "markdown",
   "id": "2eac0743",
   "metadata": {},
   "source": [
    "Group by Circle and Deprtment to check if not more than 2 mentees of same department are not in same circle"
   ]
  },
  {
   "cell_type": "code",
   "execution_count": null,
   "id": "2258f332",
   "metadata": {},
   "outputs": [],
   "source": []
  }
 ],
 "metadata": {
  "kernelspec": {
   "display_name": "Python 3 (ipykernel)",
   "language": "python",
   "name": "python3"
  },
  "language_info": {
   "codemirror_mode": {
    "name": "ipython",
    "version": 3
   },
   "file_extension": ".py",
   "mimetype": "text/x-python",
   "name": "python",
   "nbconvert_exporter": "python",
   "pygments_lexer": "ipython3",
   "version": "3.7.4"
  }
 },
 "nbformat": 4,
 "nbformat_minor": 5
}
