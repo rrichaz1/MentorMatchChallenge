{
 "cells": [
  {
   "cell_type": "code",
   "execution_count": 1,
   "id": "5039634c",
   "metadata": {},
   "outputs": [],
   "source": [
    "import pandas as pd\n",
    "import numpy as np\n",
    "from utils import *\n"
   ]
  },
  {
   "cell_type": "code",
   "execution_count": 2,
   "id": "49f343c5",
   "metadata": {},
   "outputs": [],
   "source": [
    "#pip install sentence-transformers"
   ]
  },
  {
   "cell_type": "markdown",
   "id": "64410b7e",
   "metadata": {},
   "source": [
    "Load the datasets - Mentor/Mentee/Circle"
   ]
  },
  {
   "cell_type": "code",
   "execution_count": 3,
   "id": "d87afe72",
   "metadata": {},
   "outputs": [],
   "source": [
    "Mentee_df = pd.read_excel('../data/Mentee-obfuscated-dataset-1.xlsx', engine='openpyxl')"
   ]
  },
  {
   "cell_type": "code",
   "execution_count": 4,
   "id": "8f0bc4ed",
   "metadata": {},
   "outputs": [
    {
     "data": {
      "text/plain": [
       "Index(['Mentee_ID', 'Mentee_First_Name', 'Mentee_Last_Name', 'Mentee_Email',\n",
       "       'Mentee_Title', 'Mentee_GradeLevel', 'Mentee_Organization',\n",
       "       'Mentee_Department', 'Mentee_BusinessUnit', 'Mentee_TimeZone',\n",
       "       'Mentee_Circle', 'Mentee_Goal', 'Mentee_Interest', 'Mentee_CLL',\n",
       "       'Mentor_Interestcount', 'Mentee_Eligibility', 'Mentee_wiads_past'],\n",
       "      dtype='object')"
      ]
     },
     "execution_count": 4,
     "metadata": {},
     "output_type": "execute_result"
    }
   ],
   "source": [
    "Mentee_df.columns"
   ]
  },
  {
   "cell_type": "code",
   "execution_count": 5,
   "id": "7de15ac8",
   "metadata": {},
   "outputs": [],
   "source": [
    "Mentor_df = pd.read_excel('../data/Mentor-obfuscated-dataset-1.xlsx', engine='openpyxl')"
   ]
  },
  {
   "cell_type": "code",
   "execution_count": 6,
   "id": "04065805",
   "metadata": {},
   "outputs": [
    {
     "data": {
      "text/plain": [
       "Index(['Mentor_ID', 'Mentor_FirstName', 'Mentor_LastName', 'Mentor_Email',\n",
       "       'Mentor_JobTitle ', 'Mentor_GradeLevel', 'Mentor_Organization',\n",
       "       'Mentor_Department', 'Mentor_BusinessUnit', 'Mentor_TimeZone',\n",
       "       'Mentor_Circle', 'Mentor_Interest', 'Mentor_CLL', 'Mentor_Goal',\n",
       "       'Mentor_Interestcount', 'Mentor_Eligibility', 'Mentor_wiads_past ',\n",
       "       'Mentor_mentor_past'],\n",
       "      dtype='object')"
      ]
     },
     "execution_count": 6,
     "metadata": {},
     "output_type": "execute_result"
    }
   ],
   "source": [
    "Mentor_df.columns"
   ]
  },
  {
   "cell_type": "code",
   "execution_count": 7,
   "id": "a6c07807",
   "metadata": {},
   "outputs": [],
   "source": [
    "Circle_df = pd.read_excel('../data/CircleResult.xlsx', engine='openpyxl')"
   ]
  },
  {
   "cell_type": "code",
   "execution_count": 8,
   "id": "571934d4",
   "metadata": {},
   "outputs": [],
   "source": [
    "#Circle_df.head()"
   ]
  },
  {
   "cell_type": "code",
   "execution_count": 9,
   "id": "1db0dc8c",
   "metadata": {},
   "outputs": [
    {
     "data": {
      "text/plain": [
       "['Circle',\n",
       " 'Mentee_ID',\n",
       " 'Mentee_First_Name',\n",
       " 'Mentee_Last_Name',\n",
       " 'Mentee_Email',\n",
       " 'Mentee_Title',\n",
       " 'Mentee_GradeLevel',\n",
       " 'Mentee_Organization',\n",
       " 'Mentee_Department',\n",
       " 'Mentee_BusinessUnit',\n",
       " 'Mentee_TimeZone',\n",
       " 'Mentee_Circle',\n",
       " 'Mentee_Goal',\n",
       " 'Mentee_Interest',\n",
       " 'Mentee_CLL',\n",
       " 'Mentor_ID',\n",
       " 'Mentor_FirstName',\n",
       " 'Mentor_LastName',\n",
       " 'Mentor_Email',\n",
       " 'Mentor_JobTitle\\xa0',\n",
       " 'Mentor_GradeLevel',\n",
       " 'Mentor_Organization',\n",
       " 'Mentor_Department',\n",
       " 'Mentor_BusinessUnit',\n",
       " 'Mentor_TimeZone',\n",
       " 'Mentor_Circle',\n",
       " 'Mentor_interest',\n",
       " 'Mentor_CLL',\n",
       " 'Mentor_Goal']"
      ]
     },
     "execution_count": 9,
     "metadata": {},
     "output_type": "execute_result"
    }
   ],
   "source": [
    "list(Circle_df.columns)"
   ]
  },
  {
   "cell_type": "markdown",
   "id": "b27a1337",
   "metadata": {},
   "source": [
    "Select only 3 columns"
   ]
  },
  {
   "cell_type": "code",
   "execution_count": 10,
   "id": "471ad5e0",
   "metadata": {},
   "outputs": [],
   "source": [
    "Circle_basic_df = Circle_df[['Circle','Mentor_ID','Mentee_ID']]"
   ]
  },
  {
   "cell_type": "code",
   "execution_count": 11,
   "id": "7d4e4c06",
   "metadata": {},
   "outputs": [
    {
     "name": "stdout",
     "output_type": "stream",
     "text": [
      "No.of.unique values  16\n"
     ]
    }
   ],
   "source": [
    "#Circle_basic_df.head()\n",
    "n = Circle_df.Mentee_Email.nunique()\n",
    "  \n",
    "print(\"No.of.unique values \",n)"
   ]
  },
  {
   "cell_type": "code",
   "execution_count": 12,
   "id": "7d1d52c1",
   "metadata": {},
   "outputs": [],
   "source": [
    "Cicle_basic_sorted_df = Circle_basic_df.sort_values(by=['Circle','Mentor_ID','Mentee_ID'], inplace=False, ignore_index= True)"
   ]
  },
  {
   "cell_type": "markdown",
   "id": "5ba48e4d",
   "metadata": {},
   "source": [
    "For each circle row, get the mentor and mentee information and create a detail dataframe\n",
    "\n",
    "• Organization/Department - Mentor and Mentee should not be in same Department. \n",
    "• Time Zones – Fit circles into similar time zones. Find difference of timezone between mentor and mentee\n",
    "• Grade Levels/Mentor Circle Levels – Anyone Grade level less than 28 should not be considered a mentor.\n",
    "• CLL Sort – Mentors strengths match the Mentees growth areas.\n",
    "• Areas of interest – Maximum match on areas of interest within a circle.\n",
    "• Circle size –The number of mentees a mentor has. The circles should be close in size.\n",
    "• Mentor grade error if mentor grade < 28\n",
    "\n",
    "\n"
   ]
  },
  {
   "cell_type": "code",
   "execution_count": 13,
   "id": "c39594d4",
   "metadata": {},
   "outputs": [],
   "source": [
    "Result_Dictionary={}\n",
    "Result_DF = pd.DataFrame()"
   ]
  },
  {
   "cell_type": "code",
   "execution_count": 14,
   "id": "c0ca7c5c",
   "metadata": {},
   "outputs": [
    {
     "name": "stdout",
     "output_type": "stream",
     "text": [
      "{'Circle': 1, 'Mentor_ID': 1.0, 'Mentee_ID': 4}\n",
      "{'Circle': 1, 'Mentor_ID': 1.0, 'Mentee_ID': 5}\n",
      "{'Circle': 1, 'Mentor_ID': 1.0, 'Mentee_ID': 6}\n",
      "{'Circle': 1, 'Mentor_ID': 1.0, 'Mentee_ID': 7}\n",
      "{'Circle': 1, 'Mentor_ID': 1.0, 'Mentee_ID': 8}\n",
      "{'Circle': 1, 'Mentor_ID': 1.0, 'Mentee_ID': 9}\n",
      "{'Circle': 1, 'Mentor_ID': 1.0, 'Mentee_ID': 15}\n",
      "{'Circle': 1, 'Mentor_ID': 1.0, 'Mentee_ID': 16}\n",
      "{'Circle': 1, 'Mentor_ID': 1.0, 'Mentee_ID': 17}\n",
      "{'Circle': 1, 'Mentor_ID': 10.0, 'Mentee_ID': 3}\n",
      "{'Circle': 2, 'Mentor_ID': 10.0, 'Mentee_ID': 10}\n",
      "{'Circle': 2, 'Mentor_ID': 10.0, 'Mentee_ID': 11}\n",
      "{'Circle': 2, 'Mentor_ID': 10.0, 'Mentee_ID': 12}\n",
      "{'Circle': 2, 'Mentor_ID': 10.0, 'Mentee_ID': 13}\n",
      "{'Circle': 2, 'Mentor_ID': 10.0, 'Mentee_ID': 14}\n",
      "{'Circle': 3, 'Mentor_ID': 17.0, 'Mentee_ID': 101}\n"
     ]
    }
   ],
   "source": [
    "Cicle_basic_sorted_dfdict = Cicle_basic_sorted_df.to_dict('records')\n",
    "for  circle_row in Cicle_basic_sorted_dfdict:\n",
    "    mentorId = circle_row['Mentor_ID']\n",
    "    menteeId = circle_row['Mentee_ID']\n",
    "    if (np.isnan(mentorId) or mentorId ==' ' or np.isnan(menteeId) or menteeId ==' '):\n",
    "        continue\n",
    "    else:        \n",
    "        mentor_row = Mentor_df[Mentor_df['Mentor_ID'] ==circle_row['Mentor_ID'] ]\n",
    "        mentee_row = Mentee_df[Mentee_df['Mentee_ID'] ==circle_row['Mentee_ID'] ]\n",
    "\n",
    "        print(circle_row)\n",
    "        result = validate_mentormentee(mentor_row, mentee_row, circle_row)\n",
    "        result['Mentor_Email'] = mentor_row['Mentor_Email'].iloc[0]\n",
    "        result['Mentee_Email'] = mentee_row['Mentee_Email'].iloc[0]\n",
    "        Result_DF = Result_DF.append(result, ignore_index=True)\n",
    "    "
   ]
  },
  {
   "cell_type": "code",
   "execution_count": 15,
   "id": "6c2483f8",
   "metadata": {},
   "outputs": [
    {
     "data": {
      "text/html": [
       "<div>\n",
       "<style scoped>\n",
       "    .dataframe tbody tr th:only-of-type {\n",
       "        vertical-align: middle;\n",
       "    }\n",
       "\n",
       "    .dataframe tbody tr th {\n",
       "        vertical-align: top;\n",
       "    }\n",
       "\n",
       "    .dataframe thead th {\n",
       "        text-align: right;\n",
       "    }\n",
       "</style>\n",
       "<table border=\"1\" class=\"dataframe\">\n",
       "  <thead>\n",
       "    <tr style=\"text-align: right;\">\n",
       "      <th></th>\n",
       "      <th>Circle</th>\n",
       "      <th>Goal_Similarity</th>\n",
       "      <th>Mentee_Circle</th>\n",
       "      <th>Mentee_Department</th>\n",
       "      <th>Mentee_Email</th>\n",
       "      <th>Mentee_Grade</th>\n",
       "      <th>Mentee_ID</th>\n",
       "      <th>Mentee_TimeZone</th>\n",
       "      <th>Mentee_TimeZoneNum</th>\n",
       "      <th>MentorMentee_CLL_Growth</th>\n",
       "      <th>...</th>\n",
       "      <th>MentorMentee_Grade_Error</th>\n",
       "      <th>Mentor_Circle</th>\n",
       "      <th>Mentor_Department</th>\n",
       "      <th>Mentor_Eligible_Error</th>\n",
       "      <th>Mentor_Email</th>\n",
       "      <th>Mentor_Grade</th>\n",
       "      <th>Mentor_ID</th>\n",
       "      <th>Mentor_Mentee_TimeZoneDist</th>\n",
       "      <th>Mentor_TimeZone</th>\n",
       "      <th>Mentor_TimeZoneNum</th>\n",
       "    </tr>\n",
       "  </thead>\n",
       "  <tbody>\n",
       "    <tr>\n",
       "      <th>0</th>\n",
       "      <td>1.0</td>\n",
       "      <td>0.4033</td>\n",
       "      <td>Early Career</td>\n",
       "      <td>Ancillary</td>\n",
       "      <td>First_4.Last_4@uvw.com</td>\n",
       "      <td>27.0</td>\n",
       "      <td>4.0</td>\n",
       "      <td>EST</td>\n",
       "      <td>3.0</td>\n",
       "      <td>0.0</td>\n",
       "      <td>...</td>\n",
       "      <td>1.0</td>\n",
       "      <td>Mid Career</td>\n",
       "      <td>Specialty benefits</td>\n",
       "      <td>1.0</td>\n",
       "      <td>First_1.Last_1@corpitsvcs.com</td>\n",
       "      <td>27.0</td>\n",
       "      <td>1.0</td>\n",
       "      <td>0.0</td>\n",
       "      <td>EST</td>\n",
       "      <td>3.0</td>\n",
       "    </tr>\n",
       "    <tr>\n",
       "      <th>1</th>\n",
       "      <td>1.0</td>\n",
       "      <td>0.4244</td>\n",
       "      <td>Mid Career</td>\n",
       "      <td>Specialty benefits</td>\n",
       "      <td>First_5.Last_5@uvw.com</td>\n",
       "      <td>28.0</td>\n",
       "      <td>5.0</td>\n",
       "      <td>PST</td>\n",
       "      <td>6.0</td>\n",
       "      <td>1.0</td>\n",
       "      <td>...</td>\n",
       "      <td>1.0</td>\n",
       "      <td>Mid Career</td>\n",
       "      <td>Specialty benefits</td>\n",
       "      <td>1.0</td>\n",
       "      <td>First_1.Last_1@corpitsvcs.com</td>\n",
       "      <td>27.0</td>\n",
       "      <td>1.0</td>\n",
       "      <td>3.0</td>\n",
       "      <td>EST</td>\n",
       "      <td>3.0</td>\n",
       "    </tr>\n",
       "    <tr>\n",
       "      <th>2</th>\n",
       "      <td>1.0</td>\n",
       "      <td>0.0213</td>\n",
       "      <td>Early Career</td>\n",
       "      <td>Ancillary</td>\n",
       "      <td>First_5.Last_5@uvw.com</td>\n",
       "      <td>27.0</td>\n",
       "      <td>6.0</td>\n",
       "      <td>EST</td>\n",
       "      <td>3.0</td>\n",
       "      <td>0.0</td>\n",
       "      <td>...</td>\n",
       "      <td>1.0</td>\n",
       "      <td>Mid Career</td>\n",
       "      <td>Specialty benefits</td>\n",
       "      <td>1.0</td>\n",
       "      <td>First_1.Last_1@corpitsvcs.com</td>\n",
       "      <td>27.0</td>\n",
       "      <td>1.0</td>\n",
       "      <td>0.0</td>\n",
       "      <td>EST</td>\n",
       "      <td>3.0</td>\n",
       "    </tr>\n",
       "    <tr>\n",
       "      <th>3</th>\n",
       "      <td>1.0</td>\n",
       "      <td>0.4541</td>\n",
       "      <td>Early Career</td>\n",
       "      <td>Ancillary</td>\n",
       "      <td>First_6.Last_6@uvw.com</td>\n",
       "      <td>27.0</td>\n",
       "      <td>7.0</td>\n",
       "      <td>IST</td>\n",
       "      <td>0.0</td>\n",
       "      <td>2.0</td>\n",
       "      <td>...</td>\n",
       "      <td>1.0</td>\n",
       "      <td>Mid Career</td>\n",
       "      <td>Specialty benefits</td>\n",
       "      <td>1.0</td>\n",
       "      <td>First_1.Last_1@corpitsvcs.com</td>\n",
       "      <td>27.0</td>\n",
       "      <td>1.0</td>\n",
       "      <td>3.0</td>\n",
       "      <td>EST</td>\n",
       "      <td>3.0</td>\n",
       "    </tr>\n",
       "    <tr>\n",
       "      <th>4</th>\n",
       "      <td>1.0</td>\n",
       "      <td>0.2395</td>\n",
       "      <td>Mid Career</td>\n",
       "      <td>Government Programs</td>\n",
       "      <td>First_7.Last_7@uvw.com</td>\n",
       "      <td>27.0</td>\n",
       "      <td>8.0</td>\n",
       "      <td>CST</td>\n",
       "      <td>4.0</td>\n",
       "      <td>1.0</td>\n",
       "      <td>...</td>\n",
       "      <td>1.0</td>\n",
       "      <td>Mid Career</td>\n",
       "      <td>Specialty benefits</td>\n",
       "      <td>1.0</td>\n",
       "      <td>First_1.Last_1@corpitsvcs.com</td>\n",
       "      <td>27.0</td>\n",
       "      <td>1.0</td>\n",
       "      <td>1.0</td>\n",
       "      <td>EST</td>\n",
       "      <td>3.0</td>\n",
       "    </tr>\n",
       "  </tbody>\n",
       "</table>\n",
       "<p>5 rows × 23 columns</p>\n",
       "</div>"
      ],
      "text/plain": [
       "   Circle  Goal_Similarity Mentee_Circle    Mentee_Department  \\\n",
       "0     1.0           0.4033  Early Career            Ancillary   \n",
       "1     1.0           0.4244    Mid Career   Specialty benefits   \n",
       "2     1.0           0.0213  Early Career            Ancillary   \n",
       "3     1.0           0.4541  Early Career            Ancillary   \n",
       "4     1.0           0.2395    Mid Career  Government Programs   \n",
       "\n",
       "             Mentee_Email  Mentee_Grade  Mentee_ID Mentee_TimeZone  \\\n",
       "0  First_4.Last_4@uvw.com          27.0        4.0             EST   \n",
       "1  First_5.Last_5@uvw.com          28.0        5.0             PST   \n",
       "2  First_5.Last_5@uvw.com          27.0        6.0             EST   \n",
       "3  First_6.Last_6@uvw.com          27.0        7.0             IST   \n",
       "4  First_7.Last_7@uvw.com          27.0        8.0             CST   \n",
       "\n",
       "   Mentee_TimeZoneNum  MentorMentee_CLL_Growth  ...  MentorMentee_Grade_Error  \\\n",
       "0                 3.0                      0.0  ...                       1.0   \n",
       "1                 6.0                      1.0  ...                       1.0   \n",
       "2                 3.0                      0.0  ...                       1.0   \n",
       "3                 0.0                      2.0  ...                       1.0   \n",
       "4                 4.0                      1.0  ...                       1.0   \n",
       "\n",
       "   Mentor_Circle   Mentor_Department  Mentor_Eligible_Error  \\\n",
       "0     Mid Career  Specialty benefits                    1.0   \n",
       "1     Mid Career  Specialty benefits                    1.0   \n",
       "2     Mid Career  Specialty benefits                    1.0   \n",
       "3     Mid Career  Specialty benefits                    1.0   \n",
       "4     Mid Career  Specialty benefits                    1.0   \n",
       "\n",
       "                    Mentor_Email Mentor_Grade  Mentor_ID  \\\n",
       "0  First_1.Last_1@corpitsvcs.com         27.0        1.0   \n",
       "1  First_1.Last_1@corpitsvcs.com         27.0        1.0   \n",
       "2  First_1.Last_1@corpitsvcs.com         27.0        1.0   \n",
       "3  First_1.Last_1@corpitsvcs.com         27.0        1.0   \n",
       "4  First_1.Last_1@corpitsvcs.com         27.0        1.0   \n",
       "\n",
       "  Mentor_Mentee_TimeZoneDist  Mentor_TimeZone  Mentor_TimeZoneNum  \n",
       "0                        0.0              EST                 3.0  \n",
       "1                        3.0              EST                 3.0  \n",
       "2                        0.0              EST                 3.0  \n",
       "3                        3.0              EST                 3.0  \n",
       "4                        1.0              EST                 3.0  \n",
       "\n",
       "[5 rows x 23 columns]"
      ]
     },
     "execution_count": 15,
     "metadata": {},
     "output_type": "execute_result"
    }
   ],
   "source": [
    "Result_DF.head()"
   ]
  },
  {
   "cell_type": "markdown",
   "id": "ac48e701",
   "metadata": {},
   "source": [
    "Create a summary dataframe  \n",
    "• Count of members in cicle\n",
    "• Min Max on interests, CLL sort\n",
    "• Count of departments in cicle"
   ]
  },
  {
   "cell_type": "code",
   "execution_count": 16,
   "id": "b8c09cff",
   "metadata": {},
   "outputs": [
    {
     "data": {
      "text/html": [
       "<div>\n",
       "<style scoped>\n",
       "    .dataframe tbody tr th:only-of-type {\n",
       "        vertical-align: middle;\n",
       "    }\n",
       "\n",
       "    .dataframe tbody tr th {\n",
       "        vertical-align: top;\n",
       "    }\n",
       "\n",
       "    .dataframe thead tr th {\n",
       "        text-align: left;\n",
       "    }\n",
       "</style>\n",
       "<table border=\"1\" class=\"dataframe\">\n",
       "  <thead>\n",
       "    <tr>\n",
       "      <th></th>\n",
       "      <th>Circle</th>\n",
       "      <th colspan=\"2\" halign=\"left\">Mentor_ID</th>\n",
       "      <th colspan=\"2\" halign=\"left\">Mentee_ID</th>\n",
       "      <th colspan=\"2\" halign=\"left\">Mentee_TimeZoneNum</th>\n",
       "      <th>Mentor_Eligible_Error</th>\n",
       "      <th>MentorMentee_Grade_Error</th>\n",
       "      <th>MentorMentee_DeptError</th>\n",
       "      <th>...</th>\n",
       "      <th>Goal_Similarity</th>\n",
       "      <th colspan=\"2\" halign=\"left\">Mentee_Grade</th>\n",
       "      <th colspan=\"2\" halign=\"left\">Mentor_Mentee_TimeZoneDist</th>\n",
       "      <th colspan=\"2\" halign=\"left\">MentorMentee_CLL_Growth</th>\n",
       "      <th>MentorMentee_Circle_Error</th>\n",
       "      <th colspan=\"2\" halign=\"left\">MentorMentee_Common_Interests</th>\n",
       "    </tr>\n",
       "    <tr>\n",
       "      <th></th>\n",
       "      <th></th>\n",
       "      <th>count</th>\n",
       "      <th>nunique</th>\n",
       "      <th>count</th>\n",
       "      <th>nunique</th>\n",
       "      <th>min</th>\n",
       "      <th>max</th>\n",
       "      <th>sum</th>\n",
       "      <th>sum</th>\n",
       "      <th>sum</th>\n",
       "      <th>...</th>\n",
       "      <th>max</th>\n",
       "      <th>min</th>\n",
       "      <th>max</th>\n",
       "      <th>min</th>\n",
       "      <th>max</th>\n",
       "      <th>min</th>\n",
       "      <th>max</th>\n",
       "      <th>sum</th>\n",
       "      <th>min</th>\n",
       "      <th>max</th>\n",
       "    </tr>\n",
       "  </thead>\n",
       "  <tbody>\n",
       "    <tr>\n",
       "      <th>0</th>\n",
       "      <td>1.0</td>\n",
       "      <td>10</td>\n",
       "      <td>2</td>\n",
       "      <td>10</td>\n",
       "      <td>10</td>\n",
       "      <td>0.0</td>\n",
       "      <td>6.0</td>\n",
       "      <td>9.0</td>\n",
       "      <td>8.0</td>\n",
       "      <td>1.0</td>\n",
       "      <td>...</td>\n",
       "      <td>0.4821</td>\n",
       "      <td>25.0</td>\n",
       "      <td>29.0</td>\n",
       "      <td>0.0</td>\n",
       "      <td>3.0</td>\n",
       "      <td>0.0</td>\n",
       "      <td>2.0</td>\n",
       "      <td>5.0</td>\n",
       "      <td>0.0</td>\n",
       "      <td>2.0</td>\n",
       "    </tr>\n",
       "    <tr>\n",
       "      <th>1</th>\n",
       "      <td>2.0</td>\n",
       "      <td>5</td>\n",
       "      <td>1</td>\n",
       "      <td>5</td>\n",
       "      <td>5</td>\n",
       "      <td>3.0</td>\n",
       "      <td>6.0</td>\n",
       "      <td>0.0</td>\n",
       "      <td>3.0</td>\n",
       "      <td>0.0</td>\n",
       "      <td>...</td>\n",
       "      <td>0.3878</td>\n",
       "      <td>26.0</td>\n",
       "      <td>29.0</td>\n",
       "      <td>0.0</td>\n",
       "      <td>2.0</td>\n",
       "      <td>0.0</td>\n",
       "      <td>1.0</td>\n",
       "      <td>2.0</td>\n",
       "      <td>0.0</td>\n",
       "      <td>1.0</td>\n",
       "    </tr>\n",
       "    <tr>\n",
       "      <th>2</th>\n",
       "      <td>3.0</td>\n",
       "      <td>1</td>\n",
       "      <td>1</td>\n",
       "      <td>1</td>\n",
       "      <td>1</td>\n",
       "      <td>5.0</td>\n",
       "      <td>5.0</td>\n",
       "      <td>0.0</td>\n",
       "      <td>0.0</td>\n",
       "      <td>0.0</td>\n",
       "      <td>...</td>\n",
       "      <td>0.4637</td>\n",
       "      <td>26.0</td>\n",
       "      <td>26.0</td>\n",
       "      <td>2.0</td>\n",
       "      <td>2.0</td>\n",
       "      <td>1.0</td>\n",
       "      <td>1.0</td>\n",
       "      <td>1.0</td>\n",
       "      <td>1.0</td>\n",
       "      <td>1.0</td>\n",
       "    </tr>\n",
       "  </tbody>\n",
       "</table>\n",
       "<p>3 rows × 22 columns</p>\n",
       "</div>"
      ],
      "text/plain": [
       "  Circle Mentor_ID         Mentee_ID         Mentee_TimeZoneNum       \\\n",
       "             count nunique     count nunique                min  max   \n",
       "0    1.0        10       2        10      10                0.0  6.0   \n",
       "1    2.0         5       1         5       5                3.0  6.0   \n",
       "2    3.0         1       1         1       1                5.0  5.0   \n",
       "\n",
       "  Mentor_Eligible_Error MentorMentee_Grade_Error MentorMentee_DeptError  ...  \\\n",
       "                    sum                      sum                    sum  ...   \n",
       "0                   9.0                      8.0                    1.0  ...   \n",
       "1                   0.0                      3.0                    0.0  ...   \n",
       "2                   0.0                      0.0                    0.0  ...   \n",
       "\n",
       "  Goal_Similarity Mentee_Grade       Mentor_Mentee_TimeZoneDist       \\\n",
       "              max          min   max                        min  max   \n",
       "0          0.4821         25.0  29.0                        0.0  3.0   \n",
       "1          0.3878         26.0  29.0                        0.0  2.0   \n",
       "2          0.4637         26.0  26.0                        2.0  2.0   \n",
       "\n",
       "  MentorMentee_CLL_Growth      MentorMentee_Circle_Error  \\\n",
       "                      min  max                       sum   \n",
       "0                     0.0  2.0                       5.0   \n",
       "1                     0.0  1.0                       2.0   \n",
       "2                     1.0  1.0                       1.0   \n",
       "\n",
       "  MentorMentee_Common_Interests       \n",
       "                            min  max  \n",
       "0                           0.0  2.0  \n",
       "1                           0.0  1.0  \n",
       "2                           1.0  1.0  \n",
       "\n",
       "[3 rows x 22 columns]"
      ]
     },
     "execution_count": 16,
     "metadata": {},
     "output_type": "execute_result"
    }
   ],
   "source": [
    "\n",
    "# Groupby multiple columns & multiple aggregations\n",
    "grouped = Result_DF.groupby('Circle').aggregate({'Mentor_ID':['count','nunique'],'Mentee_ID':['count','nunique'],'Mentee_TimeZoneNum':['min','max'], 'Mentor_Eligible_Error':'sum', 'MentorMentee_Grade_Error':'sum','MentorMentee_DeptError':'sum','Mentee_Department':'nunique','Goal_Similarity':['min','max'],'Mentee_Grade':['min','max'],'Mentee_TimeZoneNum':['min','max'],'Mentor_Mentee_TimeZoneDist':['min','max'],'MentorMentee_CLL_Growth':['min','max'],'MentorMentee_Circle_Error':['sum'],'MentorMentee_Common_Interests':['min','max']})\n",
    "regroup_DF = grouped.reset_index()\n",
    "regroup_DF.head()"
   ]
  },
  {
   "cell_type": "markdown",
   "id": "3afd5946",
   "metadata": {},
   "source": [
    "Calculate Circle level Penalty and Bonus\n",
    "\n",
    "• Organization/Department - To encourage networking the circles mentees from the same organization should be split between different circles. Mentor and Mentee should not be in same Department.\n",
    "• Time Zones – Fit circles into similar time zones or within 2-hour differences. *International participants placed in eastern time zone groups.\n",
    "• Grade Levels/Mentor Circle Levels – Should not have more than three grade levels between participants. Appropriate grade level grouping of mentor and mentees. Circles should not have both Early Career and Mid Career members.\n",
    "Anyone Grade level less than 28 should not be considered a mentor.\n",
    "• CLL Sort – Mentors strengths match the Mentees growth areas.\n",
    "• Areas of interest – Maximum match on areas of interest within a circle.\n",
    "• Circle size –The number of mentees a mentor has. The circles should be close in size.\n"
   ]
  },
  {
   "cell_type": "code",
   "execution_count": 17,
   "id": "6c705a15",
   "metadata": {},
   "outputs": [],
   "source": [
    "#Set Base Score as 100\n",
    "Base_Score = 100"
   ]
  },
  {
   "cell_type": "markdown",
   "id": "f4892b5a",
   "metadata": {},
   "source": [
    " Create Circle summary score and explanation`"
   ]
  },
  {
   "cell_type": "code",
   "execution_count": 18,
   "id": "9805e4bd",
   "metadata": {},
   "outputs": [],
   "source": [
    "\n",
    "Mentee_Department_In_Circle_Error_Group = Result_DF.groupby(['Circle', 'Mentee_Department']).filter(lambda x: len(x) >= 2).Circle.unique()\n"
   ]
  },
  {
   "cell_type": "code",
   "execution_count": 19,
   "id": "76716ac7",
   "metadata": {},
   "outputs": [],
   "source": [
    "Circle_Penalty, Circle_Bonus,  Circle_Summary_DF = calculateCircleLevelScore(regroup_DF, Mentee_Department_In_Circle_Error_Group)\n"
   ]
  },
  {
   "cell_type": "code",
   "execution_count": 20,
   "id": "a80170e3",
   "metadata": {},
   "outputs": [
    {
     "data": {
      "text/html": [
       "<div>\n",
       "<style scoped>\n",
       "    .dataframe tbody tr th:only-of-type {\n",
       "        vertical-align: middle;\n",
       "    }\n",
       "\n",
       "    .dataframe tbody tr th {\n",
       "        vertical-align: top;\n",
       "    }\n",
       "\n",
       "    .dataframe thead th {\n",
       "        text-align: right;\n",
       "    }\n",
       "</style>\n",
       "<table border=\"1\" class=\"dataframe\">\n",
       "  <thead>\n",
       "    <tr style=\"text-align: right;\">\n",
       "      <th></th>\n",
       "      <th>Circle</th>\n",
       "      <th>Circle Size</th>\n",
       "      <th>Circle Size Penalty</th>\n",
       "      <th>Mentee Grade Max</th>\n",
       "      <th>Mentee Grade Min</th>\n",
       "      <th>Mentee Grade Span</th>\n",
       "      <th>Mentee Mentor Department Error</th>\n",
       "      <th>Mentee Mentor Department Penalty</th>\n",
       "      <th>Mentee Mentor Grade Penalty</th>\n",
       "      <th>Mentee Mentor TimeZone Difference</th>\n",
       "      <th>...</th>\n",
       "      <th>Mentor Mentee Circle Error</th>\n",
       "      <th>Mentor Mentee Circle Penalty</th>\n",
       "      <th>Mentor Mentee Goal Similarity Bonus</th>\n",
       "      <th>Mentor Mentee Interest Bonus</th>\n",
       "      <th>Mentor Mentee Min Goal Similarity</th>\n",
       "      <th>Mentor Mentee Minimum Interest Commonality</th>\n",
       "      <th>Too Many Mentees in Same Department Penalty</th>\n",
       "      <th>Unique Mentee Departments</th>\n",
       "      <th>Unique Mentors</th>\n",
       "      <th>Unique Mentors Penalty</th>\n",
       "    </tr>\n",
       "  </thead>\n",
       "  <tbody>\n",
       "    <tr>\n",
       "      <th>0</th>\n",
       "      <td>1.0</td>\n",
       "      <td>10.0</td>\n",
       "      <td>0.0</td>\n",
       "      <td>29.0</td>\n",
       "      <td>25.0</td>\n",
       "      <td>4.0</td>\n",
       "      <td>1.0</td>\n",
       "      <td>-1.0</td>\n",
       "      <td>-1.0</td>\n",
       "      <td>3.0</td>\n",
       "      <td>...</td>\n",
       "      <td>5.0</td>\n",
       "      <td>-1.0</td>\n",
       "      <td>0.0</td>\n",
       "      <td>0.0</td>\n",
       "      <td>0.0213 - 0.4821</td>\n",
       "      <td>0.0 - 2.0</td>\n",
       "      <td>-1.0</td>\n",
       "      <td>8.0</td>\n",
       "      <td>2.0</td>\n",
       "      <td>-2.0</td>\n",
       "    </tr>\n",
       "    <tr>\n",
       "      <th>1</th>\n",
       "      <td>2.0</td>\n",
       "      <td>5.0</td>\n",
       "      <td>0.0</td>\n",
       "      <td>29.0</td>\n",
       "      <td>26.0</td>\n",
       "      <td>3.0</td>\n",
       "      <td>0.0</td>\n",
       "      <td>0.0</td>\n",
       "      <td>0.0</td>\n",
       "      <td>2.0</td>\n",
       "      <td>...</td>\n",
       "      <td>2.0</td>\n",
       "      <td>-1.0</td>\n",
       "      <td>0.0</td>\n",
       "      <td>0.0</td>\n",
       "      <td>0.1314 - 0.3878</td>\n",
       "      <td>0.0 - 1.0</td>\n",
       "      <td>0.0</td>\n",
       "      <td>5.0</td>\n",
       "      <td>1.0</td>\n",
       "      <td>0.0</td>\n",
       "    </tr>\n",
       "    <tr>\n",
       "      <th>2</th>\n",
       "      <td>3.0</td>\n",
       "      <td>1.0</td>\n",
       "      <td>0.0</td>\n",
       "      <td>26.0</td>\n",
       "      <td>26.0</td>\n",
       "      <td>0.0</td>\n",
       "      <td>0.0</td>\n",
       "      <td>0.0</td>\n",
       "      <td>0.0</td>\n",
       "      <td>2.0</td>\n",
       "      <td>...</td>\n",
       "      <td>1.0</td>\n",
       "      <td>-1.0</td>\n",
       "      <td>2.0</td>\n",
       "      <td>0.0</td>\n",
       "      <td>0.4637 - 0.4637</td>\n",
       "      <td>1.0 - 1.0</td>\n",
       "      <td>0.0</td>\n",
       "      <td>1.0</td>\n",
       "      <td>1.0</td>\n",
       "      <td>0.0</td>\n",
       "    </tr>\n",
       "  </tbody>\n",
       "</table>\n",
       "<p>3 rows × 28 columns</p>\n",
       "</div>"
      ],
      "text/plain": [
       "   Circle  Circle Size  Circle Size Penalty  Mentee Grade Max  \\\n",
       "0     1.0         10.0                  0.0              29.0   \n",
       "1     2.0          5.0                  0.0              29.0   \n",
       "2     3.0          1.0                  0.0              26.0   \n",
       "\n",
       "   Mentee Grade Min  Mentee Grade Span  Mentee Mentor Department Error  \\\n",
       "0              25.0                4.0                             1.0   \n",
       "1              26.0                3.0                             0.0   \n",
       "2              26.0                0.0                             0.0   \n",
       "\n",
       "   Mentee Mentor Department Penalty  Mentee Mentor Grade Penalty  \\\n",
       "0                              -1.0                         -1.0   \n",
       "1                               0.0                          0.0   \n",
       "2                               0.0                          0.0   \n",
       "\n",
       "   Mentee Mentor TimeZone Difference  ...  Mentor Mentee Circle Error  \\\n",
       "0                                3.0  ...                         5.0   \n",
       "1                                2.0  ...                         2.0   \n",
       "2                                2.0  ...                         1.0   \n",
       "\n",
       "   Mentor Mentee Circle Penalty  Mentor Mentee Goal Similarity Bonus  \\\n",
       "0                          -1.0                                  0.0   \n",
       "1                          -1.0                                  0.0   \n",
       "2                          -1.0                                  2.0   \n",
       "\n",
       "   Mentor Mentee Interest Bonus  Mentor Mentee Min Goal Similarity  \\\n",
       "0                           0.0                    0.0213 - 0.4821   \n",
       "1                           0.0                    0.1314 - 0.3878   \n",
       "2                           0.0                    0.4637 - 0.4637   \n",
       "\n",
       "   Mentor Mentee Minimum Interest Commonality  \\\n",
       "0                                   0.0 - 2.0   \n",
       "1                                   0.0 - 1.0   \n",
       "2                                   1.0 - 1.0   \n",
       "\n",
       "   Too Many Mentees in Same Department Penalty  Unique Mentee Departments  \\\n",
       "0                                         -1.0                        8.0   \n",
       "1                                          0.0                        5.0   \n",
       "2                                          0.0                        1.0   \n",
       "\n",
       "   Unique Mentors  Unique Mentors Penalty  \n",
       "0             2.0                    -2.0  \n",
       "1             1.0                     0.0  \n",
       "2             1.0                     0.0  \n",
       "\n",
       "[3 rows x 28 columns]"
      ]
     },
     "execution_count": 20,
     "metadata": {},
     "output_type": "execute_result"
    }
   ],
   "source": [
    "Circle_Summary_DF"
   ]
  },
  {
   "cell_type": "code",
   "execution_count": 21,
   "id": "70da7273",
   "metadata": {},
   "outputs": [
    {
     "data": {
      "text/plain": [
       "Index(['Circle', 'Circle Size', 'Circle Size Penalty', 'Mentee Grade Max',\n",
       "       'Mentee Grade Min', 'Mentee Grade Span',\n",
       "       'Mentee Mentor Department Error', 'Mentee Mentor Department Penalty',\n",
       "       'Mentee Mentor Grade Penalty', 'Mentee Mentor TimeZone Difference',\n",
       "       'Mentee Mentor TimeZone Penalty', 'Mentees TimeZone Difference',\n",
       "       'Mentees TimeZone Penalty', 'Mentees belonging to same Department',\n",
       "       'Mentor Eligibility Penalty', 'Mentor Eligible Error',\n",
       "       'Mentor Mentee CLL Growth Bonus',\n",
       "       'Mentor Mentee CLL Growth Commonality', 'Mentor Mentee Circle Error',\n",
       "       'Mentor Mentee Circle Penalty', 'Mentor Mentee Goal Similarity Bonus',\n",
       "       'Mentor Mentee Interest Bonus', 'Mentor Mentee Min Goal Similarity',\n",
       "       'Mentor Mentee Minimum Interest Commonality',\n",
       "       'Too Many Mentees in Same Department Penalty',\n",
       "       'Unique Mentee Departments', 'Unique Mentors',\n",
       "       'Unique Mentors Penalty'],\n",
       "      dtype='object')"
      ]
     },
     "execution_count": 21,
     "metadata": {},
     "output_type": "execute_result"
    }
   ],
   "source": [
    "Circle_Summary_DF.columns"
   ]
  },
  {
   "cell_type": "code",
   "execution_count": 22,
   "id": "215afbac",
   "metadata": {},
   "outputs": [
    {
     "name": "stdout",
     "output_type": "stream",
     "text": [
      "Circle score is  2 -11\n"
     ]
    }
   ],
   "source": [
    "print(\"Circle score is \",Circle_Bonus, Circle_Penalty)"
   ]
  },
  {
   "cell_type": "markdown",
   "id": "37a3eba6",
   "metadata": {},
   "source": [
    "Create high level statistics for easier evaluation of bonus and penalty points\n",
    "\n",
    "Penalty points:\n",
    "    Circle size > 10\n",
    "    Mentor and mentee are in same department\n",
    "    Number of mentees not matched to any mentor\n",
    "Bonus Points\n",
    "    Timezone \n",
    "    Grade Level distance <= 3\n",
    "    Drop mentors with grade level < 28\n",
    "      \n",
    "      \n",
    "• Max - Min circle size\n",
    "• Circle Size > 10\n",
    "• Number of mentees not in any circle\n",
    "• Number of mentors not in any circle\n",
    "• Duplicate entry for mentee"
   ]
  },
  {
   "cell_type": "code",
   "execution_count": 23,
   "id": "1696f985",
   "metadata": {},
   "outputs": [],
   "source": [
    "#Get High Level Score \n",
    "(Summary_Score, Summary_Results) = createSummary(Result_DF, regroup_DF)\n"
   ]
  },
  {
   "cell_type": "code",
   "execution_count": 24,
   "id": "f32526f6",
   "metadata": {},
   "outputs": [],
   "source": [
    "##Find unassigned mentors, mentees\n",
    "unassignedMentees = set(Mentee_df.Mentee_Email).difference(set(Result_DF.Mentee_Email))\n",
    "unassignedMentors = set(Mentor_df.Mentor_Email).difference(set(Result_DF.Mentor_Email))\n",
    "Summary_Results['Unassigned Mentees']=\";\".join(unassignedMentees)\n",
    "Summary_Results['Number of Unassigned Mentees']=len(unassignedMentees)\n",
    "Summary_Results['Unassigned Mentors']=\";\".join(unassignedMentors)\n",
    "Summary_Results['Number of Unassigned Mentors']=len(unassignedMentors)"
   ]
  },
  {
   "cell_type": "code",
   "execution_count": 25,
   "id": "724cc554",
   "metadata": {},
   "outputs": [],
   "source": [
    "#Add scores to Summary Results\n",
    "Final_Score = Base_Score + Circle_Bonus + Circle_Penalty + Summary_Score\n",
    "Summary_Results['Base Score'] = Base_Score\n",
    "Summary_Results['Circle Level Bonus'] = Circle_Bonus\n",
    "Summary_Results['Circle Level Penalty'] = Circle_Penalty\n",
    "Summary_Results['Summary Level Score'] = Summary_Score\n",
    "\n",
    "Summary_Results['Final Score'] = Final_Score"
   ]
  },
  {
   "cell_type": "code",
   "execution_count": 26,
   "id": "cf085b38",
   "metadata": {},
   "outputs": [],
   "source": [
    "Summary_Results_DF = pd.DataFrame.from_dict(data=Summary_Results, orient='index', columns=['Result'])\n",
    "\n"
   ]
  },
  {
   "cell_type": "markdown",
   "id": "86e6d3e3",
   "metadata": {},
   "source": [
    "https://towardsdatascience.com/5-pandas-group-by-tricks-you-should-know-in-python-f53246c92c94"
   ]
  },
  {
   "cell_type": "code",
   "execution_count": 27,
   "id": "c034acdd",
   "metadata": {},
   "outputs": [],
   "source": [
    "#Summary_Results_DF.columns"
   ]
  },
  {
   "cell_type": "code",
   "execution_count": 28,
   "id": "4388889c",
   "metadata": {},
   "outputs": [
    {
     "data": {
      "text/html": [
       "<div>\n",
       "<style scoped>\n",
       "    .dataframe tbody tr th:only-of-type {\n",
       "        vertical-align: middle;\n",
       "    }\n",
       "\n",
       "    .dataframe tbody tr th {\n",
       "        vertical-align: top;\n",
       "    }\n",
       "\n",
       "    .dataframe thead th {\n",
       "        text-align: right;\n",
       "    }\n",
       "</style>\n",
       "<table border=\"1\" class=\"dataframe\">\n",
       "  <thead>\n",
       "    <tr style=\"text-align: right;\">\n",
       "      <th></th>\n",
       "      <th>Category</th>\n",
       "      <th>Result</th>\n",
       "    </tr>\n",
       "  </thead>\n",
       "  <tbody>\n",
       "    <tr>\n",
       "      <th>0</th>\n",
       "      <td>Mentee Assigned More Than Once</td>\n",
       "      <td>First_5.Last_5@uvw.com</td>\n",
       "    </tr>\n",
       "    <tr>\n",
       "      <th>1</th>\n",
       "      <td>Uneven Circle Size</td>\n",
       "      <td>Yes</td>\n",
       "    </tr>\n",
       "    <tr>\n",
       "      <th>2</th>\n",
       "      <td>Span Circle Size</td>\n",
       "      <td>1 - 10</td>\n",
       "    </tr>\n",
       "    <tr>\n",
       "      <th>3</th>\n",
       "      <td>Uneven Circle Size Penalty</td>\n",
       "      <td>-2</td>\n",
       "    </tr>\n",
       "    <tr>\n",
       "      <th>4</th>\n",
       "      <td>Mentor assigned to 2 circles penalty</td>\n",
       "      <td>-2</td>\n",
       "    </tr>\n",
       "  </tbody>\n",
       "</table>\n",
       "</div>"
      ],
      "text/plain": [
       "                               Category                  Result\n",
       "0        Mentee Assigned More Than Once  First_5.Last_5@uvw.com\n",
       "1                    Uneven Circle Size                     Yes\n",
       "2                      Span Circle Size                  1 - 10\n",
       "3            Uneven Circle Size Penalty                      -2\n",
       "4  Mentor assigned to 2 circles penalty                      -2"
      ]
     },
     "execution_count": 28,
     "metadata": {},
     "output_type": "execute_result"
    }
   ],
   "source": [
    "Summary_Results_DF.index = Summary_Results_DF.index.set_names('Category')\n",
    " \n",
    "Summary_Results_DF.reset_index().head()"
   ]
  },
  {
   "cell_type": "code",
   "execution_count": 29,
   "id": "061b4357",
   "metadata": {},
   "outputs": [],
   "source": [
    "# Create a Pandas Excel writer using XlsxWriter as the engine.\n",
    "writer = pd.ExcelWriter('pandas_multiple.xlsx', engine='xlsxwriter')\n",
    "\n",
    "# Write each dataframe to a different worksheet.\n",
    "Summary_Results_DF.to_excel(writer, sheet_name='highlevelsummary', header='False')\n",
    "Circle_Summary_DF.to_excel(writer, sheet_name='circlesummary')\n",
    "Result_DF.to_excel(writer, sheet_name='detail')\n",
    "\n",
    "writer.close()"
   ]
  },
  {
   "cell_type": "markdown",
   "id": "2eac0743",
   "metadata": {},
   "source": [
    "Group by Circle and Deprtment to check if not more than 2 mentees of same department are not in same circle"
   ]
  },
  {
   "cell_type": "code",
   "execution_count": null,
   "id": "2258f332",
   "metadata": {},
   "outputs": [],
   "source": []
  }
 ],
 "metadata": {
  "kernelspec": {
   "display_name": "Python 3 (ipykernel)",
   "language": "python",
   "name": "python3"
  },
  "language_info": {
   "codemirror_mode": {
    "name": "ipython",
    "version": 3
   },
   "file_extension": ".py",
   "mimetype": "text/x-python",
   "name": "python",
   "nbconvert_exporter": "python",
   "pygments_lexer": "ipython3",
   "version": "3.7.4"
  }
 },
 "nbformat": 4,
 "nbformat_minor": 5
}
