{
 "cells": [
  {
   "cell_type": "markdown",
   "id": "c35109a8",
   "metadata": {},
   "source": [
    "https://towardsdatascience.com/semantic-similarity-using-transformers-8f3cb5bf66d6"
   ]
  },
  {
   "cell_type": "code",
   "execution_count": null,
   "id": "3d9d6915",
   "metadata": {},
   "outputs": [],
   "source": [
    "from sentence_transformers import SentenceTransformer, util\n",
    "import numpy as np"
   ]
  },
  {
   "cell_type": "code",
   "execution_count": null,
   "id": "b3845ee2",
   "metadata": {},
   "outputs": [],
   "source": [
    "model = SentenceTransformer('stsb-roberta-large')"
   ]
  },
  {
   "cell_type": "code",
   "execution_count": null,
   "id": "f032c972",
   "metadata": {},
   "outputs": [],
   "source": [
    "sentence1=\"Hi, Im a product owner of applications that are based on Analytics and Data Science. Being a product manager and worked in a variety of roles in software engineering, system integrationx testing, investment banking and product management for healthcare  I got the opportunity to understand not only the technical algorithms and infrastructure details but also the markets and the consumers.  I plan to effectively address the questions of the team and help facilitate their growth in understanding the business potential in Analytics and Data Science, help them build business cases on how data analytics can be brought in to existing applications or helpbuild a strategy to get the buy-in from the business owners and give them exposure to what is being done in my current group where DS is the core of our product. \""
   ]
  },
  {
   "cell_type": "code",
   "execution_count": null,
   "id": "ae3b2643",
   "metadata": {},
   "outputs": [],
   "source": [
    "#sentence1 = \"I have years of experience in Healthcare data science and analytics specialized in multiple areas such as PBM, ACO, HEDIS and Stars Measures (especially COA and hospital measures).  I worked in uvw on multiple roles starting from Sr. HCE consultant to principal data scientist since 2016 so I can share my experience in using data science tools and knowledge to create value for uvw business as well as people skills and company culture.\"\n",
    "sentence2 = \"Knowledge that will help me be successful in the Data Analytics field.  Tools/Resources to continue growing with the company and figuring out how I can be my own brand in my journey to project management and as I network with others across the enterprise.  I love to learn about others experiences to broaden my perspectives on things that I may not have previously thought were possible.\""
   ]
  },
  {
   "cell_type": "code",
   "execution_count": null,
   "id": "11c27574",
   "metadata": {},
   "outputs": [],
   "source": [
    "# encode sentences to get their embeddings\n",
    "embedding1 = model.encode(sentence1, convert_to_tensor=True)\n",
    "embedding2 = model.encode(sentence2, convert_to_tensor=True)\n",
    "# compute similarity scores of two embeddings\n",
    "cosine_scores = util.pytorch_cos_sim(embedding1, embedding2)\n",
    "print(\"Sentence 1:\", sentence1)\n",
    "print(\"Sentence 2:\", sentence2)\n",
    "print(\"Similarity score:\", cosine_scores.item())"
   ]
  },
  {
   "cell_type": "code",
   "execution_count": null,
   "id": "f3be4f6a",
   "metadata": {},
   "outputs": [],
   "source": []
  }
 ],
 "metadata": {
  "kernelspec": {
   "display_name": "Python 3 (ipykernel)",
   "language": "python",
   "name": "python3"
  },
  "language_info": {
   "codemirror_mode": {
    "name": "ipython",
    "version": 3
   },
   "file_extension": ".py",
   "mimetype": "text/x-python",
   "name": "python",
   "nbconvert_exporter": "python",
   "pygments_lexer": "ipython3",
   "version": "3.7.4"
  }
 },
 "nbformat": 4,
 "nbformat_minor": 5
}
