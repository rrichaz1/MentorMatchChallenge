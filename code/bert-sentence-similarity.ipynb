{
 "cells": [
  {
   "cell_type": "markdown",
   "id": "c35109a8",
   "metadata": {},
   "source": [
    "https://towardsdatascience.com/semantic-similarity-using-transformers-8f3cb5bf66d6"
   ]
  },
  {
   "cell_type": "code",
   "execution_count": 1,
   "id": "3d9d6915",
   "metadata": {},
   "outputs": [],
   "source": [
    "from sentence_transformers import SentenceTransformer, util\n",
    "import numpy as np"
   ]
  },
  {
   "cell_type": "code",
   "execution_count": 2,
   "id": "b3845ee2",
   "metadata": {},
   "outputs": [
    {
     "data": {
      "application/vnd.jupyter.widget-view+json": {
       "model_id": "207d7176d39f4c0f9efc2cbedb9f751a",
       "version_major": 2,
       "version_minor": 0
      },
      "text/plain": [
       "Downloading:   0%|          | 0.00/748 [00:00<?, ?B/s]"
      ]
     },
     "metadata": {},
     "output_type": "display_data"
    },
    {
     "data": {
      "application/vnd.jupyter.widget-view+json": {
       "model_id": "8f7db79913924a158a7e96c7d925e44f",
       "version_major": 2,
       "version_minor": 0
      },
      "text/plain": [
       "Downloading:   0%|          | 0.00/191 [00:00<?, ?B/s]"
      ]
     },
     "metadata": {},
     "output_type": "display_data"
    },
    {
     "data": {
      "application/vnd.jupyter.widget-view+json": {
       "model_id": "b95b73acb690485b93d725b19c416d01",
       "version_major": 2,
       "version_minor": 0
      },
      "text/plain": [
       "Downloading:   0%|          | 0.00/3.92k [00:00<?, ?B/s]"
      ]
     },
     "metadata": {},
     "output_type": "display_data"
    },
    {
     "data": {
      "application/vnd.jupyter.widget-view+json": {
       "model_id": "05bcfffca99c469e8cdf05b28459c209",
       "version_major": 2,
       "version_minor": 0
      },
      "text/plain": [
       "Downloading:   0%|          | 0.00/2.00 [00:00<?, ?B/s]"
      ]
     },
     "metadata": {},
     "output_type": "display_data"
    },
    {
     "data": {
      "application/vnd.jupyter.widget-view+json": {
       "model_id": "78d0f9886ce64db294feb96ac55250e8",
       "version_major": 2,
       "version_minor": 0
      },
      "text/plain": [
       "Downloading:   0%|          | 0.00/674 [00:00<?, ?B/s]"
      ]
     },
     "metadata": {},
     "output_type": "display_data"
    },
    {
     "data": {
      "application/vnd.jupyter.widget-view+json": {
       "model_id": "a734daa379ea47fea1ae42be86046416",
       "version_major": 2,
       "version_minor": 0
      },
      "text/plain": [
       "Downloading:   0%|          | 0.00/122 [00:00<?, ?B/s]"
      ]
     },
     "metadata": {},
     "output_type": "display_data"
    },
    {
     "data": {
      "application/vnd.jupyter.widget-view+json": {
       "model_id": "86e5bc3b8b674eab8ed9a8f56b2f409a",
       "version_major": 2,
       "version_minor": 0
      },
      "text/plain": [
       "Downloading:   0%|          | 0.00/456k [00:00<?, ?B/s]"
      ]
     },
     "metadata": {},
     "output_type": "display_data"
    },
    {
     "data": {
      "application/vnd.jupyter.widget-view+json": {
       "model_id": "aa3096a8ef0f4db2a9236be3d36023a0",
       "version_major": 2,
       "version_minor": 0
      },
      "text/plain": [
       "Downloading:   0%|          | 0.00/1.42G [00:00<?, ?B/s]"
      ]
     },
     "metadata": {},
     "output_type": "display_data"
    },
    {
     "data": {
      "application/vnd.jupyter.widget-view+json": {
       "model_id": "50947b5d01f74273992e2cfe079c6d3f",
       "version_major": 2,
       "version_minor": 0
      },
      "text/plain": [
       "Downloading:   0%|          | 0.00/52.0 [00:00<?, ?B/s]"
      ]
     },
     "metadata": {},
     "output_type": "display_data"
    },
    {
     "data": {
      "application/vnd.jupyter.widget-view+json": {
       "model_id": "b38381b3aba34d9e8517c8cd1da87275",
       "version_major": 2,
       "version_minor": 0
      },
      "text/plain": [
       "Downloading:   0%|          | 0.00/239 [00:00<?, ?B/s]"
      ]
     },
     "metadata": {},
     "output_type": "display_data"
    },
    {
     "data": {
      "application/vnd.jupyter.widget-view+json": {
       "model_id": "cdae1042a6694bc19f13c6c10dc7dc6e",
       "version_major": 2,
       "version_minor": 0
      },
      "text/plain": [
       "Downloading:   0%|          | 0.00/1.36M [00:00<?, ?B/s]"
      ]
     },
     "metadata": {},
     "output_type": "display_data"
    },
    {
     "data": {
      "application/vnd.jupyter.widget-view+json": {
       "model_id": "ffd31183d4f34791814dc27f7f57518d",
       "version_major": 2,
       "version_minor": 0
      },
      "text/plain": [
       "Downloading:   0%|          | 0.00/1.17k [00:00<?, ?B/s]"
      ]
     },
     "metadata": {},
     "output_type": "display_data"
    },
    {
     "data": {
      "application/vnd.jupyter.widget-view+json": {
       "model_id": "55e9ef6058aa4def9fc6271818a6111e",
       "version_major": 2,
       "version_minor": 0
      },
      "text/plain": [
       "Downloading:   0%|          | 0.00/798k [00:00<?, ?B/s]"
      ]
     },
     "metadata": {},
     "output_type": "display_data"
    },
    {
     "data": {
      "application/vnd.jupyter.widget-view+json": {
       "model_id": "0a21f51de0f34eb29c6df252882a037a",
       "version_major": 2,
       "version_minor": 0
      },
      "text/plain": [
       "Downloading:   0%|          | 0.00/229 [00:00<?, ?B/s]"
      ]
     },
     "metadata": {},
     "output_type": "display_data"
    }
   ],
   "source": [
    "model = SentenceTransformer('stsb-roberta-large')"
   ]
  },
  {
   "cell_type": "code",
   "execution_count": 12,
   "id": "f032c972",
   "metadata": {},
   "outputs": [],
   "source": [
    "sentence1=\"Hi, Im a product owner of applications that are based on Analytics and Data Science. Being a product manager and worked in a variety of roles in software engineering, system integrationx testing, investment banking and product management for healthcare  I got the opportunity to understand not only the technical algorithms and infrastructure details but also the markets and the consumers.  I plan to effectively address the questions of the team and help facilitate their growth in understanding the business potential in Analytics and Data Science, help them build business cases on how data analytics can be brought in to existing applications or helpbuild a strategy to get the buy-in from the business owners and give them exposure to what is being done in my current group where DS is the core of our product. \""
   ]
  },
  {
   "cell_type": "code",
   "execution_count": 10,
   "id": "ae3b2643",
   "metadata": {},
   "outputs": [],
   "source": [
    "#sentence1 = \"I have years of experience in Healthcare data science and analytics specialized in multiple areas such as PBM, ACO, HEDIS and Stars Measures (especially COA and hospital measures).  I worked in uvw on multiple roles starting from Sr. HCE consultant to principal data scientist since 2016 so I can share my experience in using data science tools and knowledge to create value for uvw business as well as people skills and company culture.\"\n",
    "sentence2 = \"Knowledge that will help me be successful in the Data Analytics field.  Tools/Resources to continue growing with the company and figuring out how I can be my own brand in my journey to project management and as I network with others across the enterprise.  I love to learn about others experiences to broaden my perspectives on things that I may not have previously thought were possible.\""
   ]
  },
  {
   "cell_type": "code",
   "execution_count": 13,
   "id": "11c27574",
   "metadata": {},
   "outputs": [
    {
     "name": "stdout",
     "output_type": "stream",
     "text": [
      "Sentence 1: Hi, Im a product owner of applications that are based on Analytics and Data Science. Being a product manager and worked in a variety of roles in software engineering, system integrationx testing, investment banking and product management for healthcare  I got the opportunity to understand not only the technical algorithms and infrastructure details but also the markets and the consumers.  I plan to effectively address the questions of the team and help facilitate their growth in understanding the business potential in Analytics and Data Science, help them build business cases on how data analytics can be brought in to existing applications or helpbuild a strategy to get the buy-in from the business owners and give them exposure to what is being done in my current group where DS is the core of our product. \n",
      "Sentence 2: Knowledge that will help me be successful in the Data Analytics field.  Tools/Resources to continue growing with the company and figuring out how I can be my own brand in my journey to project management and as I network with others across the enterprise.  I love to learn about others experiences to broaden my perspectives on things that I may not have previously thought were possible.\n",
      "Similarity score: 0.689591646194458\n"
     ]
    }
   ],
   "source": [
    "# encode sentences to get their embeddings\n",
    "embedding1 = model.encode(sentence1, convert_to_tensor=True)\n",
    "embedding2 = model.encode(sentence2, convert_to_tensor=True)\n",
    "# compute similarity scores of two embeddings\n",
    "cosine_scores = util.pytorch_cos_sim(embedding1, embedding2)\n",
    "print(\"Sentence 1:\", sentence1)\n",
    "print(\"Sentence 2:\", sentence2)\n",
    "print(\"Similarity score:\", cosine_scores.item())"
   ]
  },
  {
   "cell_type": "code",
   "execution_count": null,
   "id": "f3be4f6a",
   "metadata": {},
   "outputs": [],
   "source": []
  }
 ],
 "metadata": {
  "kernelspec": {
   "display_name": "Python 3 (ipykernel)",
   "language": "python",
   "name": "python3"
  },
  "language_info": {
   "codemirror_mode": {
    "name": "ipython",
    "version": 3
   },
   "file_extension": ".py",
   "mimetype": "text/x-python",
   "name": "python",
   "nbconvert_exporter": "python",
   "pygments_lexer": "ipython3",
   "version": "3.7.4"
  }
 },
 "nbformat": 4,
 "nbformat_minor": 5
}
