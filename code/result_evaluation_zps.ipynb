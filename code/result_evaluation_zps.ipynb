{
 "cells": [
  {
   "cell_type": "code",
   "execution_count": 1,
   "id": "5039634c",
   "metadata": {},
   "outputs": [],
   "source": [
    "import pandas as pd\n",
    "import numpy as np\n",
    "from utils import *\n"
   ]
  },
  {
   "cell_type": "code",
   "execution_count": 2,
   "id": "49f343c5",
   "metadata": {},
   "outputs": [],
   "source": [
    "#pip install sentence-transformers"
   ]
  },
  {
   "cell_type": "markdown",
   "id": "64410b7e",
   "metadata": {},
   "source": [
    "Load the datasets - Mentor/Mentee/Circle"
   ]
  },
  {
   "cell_type": "code",
   "execution_count": 3,
   "id": "d87afe72",
   "metadata": {},
   "outputs": [],
   "source": [
    "Mentee_df = pd.read_excel('../data/Mentee-obfuscated-dataset.xlsx', engine='openpyxl')"
   ]
  },
  {
   "cell_type": "code",
   "execution_count": 4,
   "id": "8f0bc4ed",
   "metadata": {},
   "outputs": [
    {
     "data": {
      "text/plain": [
       "Index(['Mentee_ID', 'Mentee_First_Name', 'Mentee_Last_Name', 'Mentee_Email',\n",
       "       'Mentee_Title', 'Mentee_GradeLevel', 'Mentee_Organization',\n",
       "       'Mentee_Department', 'Mentee_BusinessUnit', 'Mentee_TimeZone',\n",
       "       'Mentee_Circle', 'Mentee_Goal', 'Mentee_CLL', 'Mentee_Interest',\n",
       "       'Mentee_Eligibility', 'Mentee_wiads_past', 'Mentee_wiads'],\n",
       "      dtype='object')"
      ]
     },
     "execution_count": 4,
     "metadata": {},
     "output_type": "execute_result"
    }
   ],
   "source": [
    "Mentee_df.columns"
   ]
  },
  {
   "cell_type": "code",
   "execution_count": 5,
   "id": "630d81ab",
   "metadata": {},
   "outputs": [
    {
     "data": {
      "text/html": [
       "<div>\n",
       "<style scoped>\n",
       "    .dataframe tbody tr th:only-of-type {\n",
       "        vertical-align: middle;\n",
       "    }\n",
       "\n",
       "    .dataframe tbody tr th {\n",
       "        vertical-align: top;\n",
       "    }\n",
       "\n",
       "    .dataframe thead th {\n",
       "        text-align: right;\n",
       "    }\n",
       "</style>\n",
       "<table border=\"1\" class=\"dataframe\">\n",
       "  <thead>\n",
       "    <tr style=\"text-align: right;\">\n",
       "      <th></th>\n",
       "      <th>Mentee_ID</th>\n",
       "      <th>Mentee_First_Name</th>\n",
       "      <th>Mentee_Last_Name</th>\n",
       "      <th>Mentee_Email</th>\n",
       "      <th>Mentee_Title</th>\n",
       "      <th>Mentee_GradeLevel</th>\n",
       "      <th>Mentee_Organization</th>\n",
       "      <th>Mentee_Department</th>\n",
       "      <th>Mentee_BusinessUnit</th>\n",
       "      <th>Mentee_TimeZone</th>\n",
       "      <th>Mentee_Circle</th>\n",
       "      <th>Mentee_Goal</th>\n",
       "      <th>Mentee_CLL</th>\n",
       "      <th>Mentee_Interest</th>\n",
       "      <th>Mentee_Eligibility</th>\n",
       "      <th>Mentee_wiads_past</th>\n",
       "      <th>Mentee_wiads</th>\n",
       "    </tr>\n",
       "  </thead>\n",
       "  <tbody>\n",
       "    <tr>\n",
       "      <th>0</th>\n",
       "      <td>3</td>\n",
       "      <td>First_3</td>\n",
       "      <td>Last_3</td>\n",
       "      <td>First_3.Last_3@uhc.com</td>\n",
       "      <td>JobTitle_3</td>\n",
       "      <td>27</td>\n",
       "      <td>UHC</td>\n",
       "      <td>Payment Integrity Special Investigations Unit</td>\n",
       "      <td>LCRA</td>\n",
       "      <td>Central Standard Time (CST)</td>\n",
       "      <td>Mid Career (grades 28-30)</td>\n",
       "      <td>I am really interested in analytics. I feel li...</td>\n",
       "      <td>Collaborating;Growth Mindset;Using Time and Re...</td>\n",
       "      <td>Career in Data Analytics;Data Analytics Skill ...</td>\n",
       "      <td>Yes</td>\n",
       "      <td>No</td>\n",
       "      <td>No</td>\n",
       "    </tr>\n",
       "    <tr>\n",
       "      <th>1</th>\n",
       "      <td>4</td>\n",
       "      <td>First_4</td>\n",
       "      <td>Last_4</td>\n",
       "      <td>First_4.Last_4@uhc.com</td>\n",
       "      <td>JobTitle_4</td>\n",
       "      <td>27</td>\n",
       "      <td>UHC</td>\n",
       "      <td>Ancillary</td>\n",
       "      <td>E&amp;I</td>\n",
       "      <td>Eastern Standard TIme (EST)</td>\n",
       "      <td>Early Career (grades 27 and under)</td>\n",
       "      <td>Expand my network and continued growth in my c...</td>\n",
       "      <td>Growth Mindset;Taking Initiative and Risks;Inf...</td>\n",
       "      <td>Networking;Career in Data Analytics;Data Analy...</td>\n",
       "      <td>Yes</td>\n",
       "      <td>No</td>\n",
       "      <td>Yes</td>\n",
       "    </tr>\n",
       "    <tr>\n",
       "      <th>2</th>\n",
       "      <td>5</td>\n",
       "      <td>First_5</td>\n",
       "      <td>Last_5</td>\n",
       "      <td>First_5.Last_5@uhc.com</td>\n",
       "      <td>JobTitle_5</td>\n",
       "      <td>28</td>\n",
       "      <td>UHC</td>\n",
       "      <td>HCE trend management</td>\n",
       "      <td>E&amp;I</td>\n",
       "      <td>Pacific Standard Time (PST)</td>\n",
       "      <td>Mid Career (grades 28-30)</td>\n",
       "      <td>Motivation, support and career growth. How to ...</td>\n",
       "      <td>Self-Management;Growth Mindset;Taking Initiati...</td>\n",
       "      <td>Learn Story Telling;Develop Leadership Skills;...</td>\n",
       "      <td>Yes</td>\n",
       "      <td>Yes</td>\n",
       "      <td>Yes</td>\n",
       "    </tr>\n",
       "    <tr>\n",
       "      <th>3</th>\n",
       "      <td>6</td>\n",
       "      <td>First_5</td>\n",
       "      <td>Lst_5</td>\n",
       "      <td>First_5.Last_5@uhc.com</td>\n",
       "      <td>JobTitle_5</td>\n",
       "      <td>27</td>\n",
       "      <td>Optum Care Delivery-700</td>\n",
       "      <td>Care Delivery-Region 6-297</td>\n",
       "      <td>ProHealth Physicians</td>\n",
       "      <td>Eastern Standard TIme (EST)</td>\n",
       "      <td>Early Career (grades 27 and under)</td>\n",
       "      <td>I am currently</td>\n",
       "      <td>Using Time and Resources Effectively;Self-Mana...</td>\n",
       "      <td>Develop Leadership Skills;Networking;Business ...</td>\n",
       "      <td>Yes</td>\n",
       "      <td>No</td>\n",
       "      <td>No</td>\n",
       "    </tr>\n",
       "    <tr>\n",
       "      <th>4</th>\n",
       "      <td>7</td>\n",
       "      <td>First_6</td>\n",
       "      <td>Last_6</td>\n",
       "      <td>First_6.Last_6@uhc.com</td>\n",
       "      <td>JobTitle_6</td>\n",
       "      <td>27</td>\n",
       "      <td>UHC</td>\n",
       "      <td>Provider Operations</td>\n",
       "      <td>Payment Integrity/ ACE</td>\n",
       "      <td>Eastern Standard TIme (EST)</td>\n",
       "      <td>Early Career (grades 27 and under)</td>\n",
       "      <td>Career Focus on the next steps, building up a ...</td>\n",
       "      <td>Self-Management;Using Time and Resources Effec...</td>\n",
       "      <td>Develop Leadership Skills;Communication Skills...</td>\n",
       "      <td>Yes</td>\n",
       "      <td>No</td>\n",
       "      <td>Yes</td>\n",
       "    </tr>\n",
       "  </tbody>\n",
       "</table>\n",
       "</div>"
      ],
      "text/plain": [
       "   Mentee_ID Mentee_First_Name Mentee_Last_Name            Mentee_Email  \\\n",
       "0          3           First_3           Last_3  First_3.Last_3@uhc.com   \n",
       "1          4           First_4           Last_4  First_4.Last_4@uhc.com   \n",
       "2          5           First_5           Last_5  First_5.Last_5@uhc.com   \n",
       "3          6           First_5            Lst_5  First_5.Last_5@uhc.com   \n",
       "4          7           First_6           Last_6  First_6.Last_6@uhc.com   \n",
       "\n",
       "  Mentee_Title  Mentee_GradeLevel      Mentee_Organization  \\\n",
       "0   JobTitle_3                 27                      UHC   \n",
       "1   JobTitle_4                 27                      UHC   \n",
       "2   JobTitle_5                 28                      UHC   \n",
       "3   JobTitle_5                 27  Optum Care Delivery-700   \n",
       "4   JobTitle_6                 27                      UHC   \n",
       "\n",
       "                               Mentee_Department      Mentee_BusinessUnit  \\\n",
       "0  Payment Integrity Special Investigations Unit                     LCRA   \n",
       "1                                      Ancillary                      E&I   \n",
       "2                           HCE trend management                      E&I   \n",
       "3                     Care Delivery-Region 6-297     ProHealth Physicians   \n",
       "4                           Provider Operations   Payment Integrity/ ACE    \n",
       "\n",
       "               Mentee_TimeZone                       Mentee_Circle  \\\n",
       "0  Central Standard Time (CST)           Mid Career (grades 28-30)   \n",
       "1  Eastern Standard TIme (EST)  Early Career (grades 27 and under)   \n",
       "2  Pacific Standard Time (PST)           Mid Career (grades 28-30)   \n",
       "3  Eastern Standard TIme (EST)  Early Career (grades 27 and under)   \n",
       "4  Eastern Standard TIme (EST)  Early Career (grades 27 and under)   \n",
       "\n",
       "                                         Mentee_Goal  \\\n",
       "0  I am really interested in analytics. I feel li...   \n",
       "1  Expand my network and continued growth in my c...   \n",
       "2  Motivation, support and career growth. How to ...   \n",
       "3                                     I am currently   \n",
       "4  Career Focus on the next steps, building up a ...   \n",
       "\n",
       "                                          Mentee_CLL  \\\n",
       "0  Collaborating;Growth Mindset;Using Time and Re...   \n",
       "1  Growth Mindset;Taking Initiative and Risks;Inf...   \n",
       "2  Self-Management;Growth Mindset;Taking Initiati...   \n",
       "3  Using Time and Resources Effectively;Self-Mana...   \n",
       "4  Self-Management;Using Time and Resources Effec...   \n",
       "\n",
       "                                     Mentee_Interest Mentee_Eligibility  \\\n",
       "0  Career in Data Analytics;Data Analytics Skill ...                Yes   \n",
       "1  Networking;Career in Data Analytics;Data Analy...                Yes   \n",
       "2  Learn Story Telling;Develop Leadership Skills;...                Yes   \n",
       "3  Develop Leadership Skills;Networking;Business ...                Yes   \n",
       "4  Develop Leadership Skills;Communication Skills...                Yes   \n",
       "\n",
       "  Mentee_wiads_past Mentee_wiads  \n",
       "0                No           No  \n",
       "1                No          Yes  \n",
       "2               Yes          Yes  \n",
       "3                No           No  \n",
       "4                No          Yes  "
      ]
     },
     "execution_count": 5,
     "metadata": {},
     "output_type": "execute_result"
    }
   ],
   "source": [
    "Mentee_df.head()"
   ]
  },
  {
   "cell_type": "code",
   "execution_count": 6,
   "id": "7de15ac8",
   "metadata": {},
   "outputs": [],
   "source": [
    "Mentor_df = pd.read_excel('../data/Mentor-obfuscated-dataset.xlsx', engine='openpyxl')"
   ]
  },
  {
   "cell_type": "code",
   "execution_count": 7,
   "id": "04065805",
   "metadata": {},
   "outputs": [
    {
     "data": {
      "text/plain": [
       "Index(['Mentor_ID', 'Mentor_FirstName', 'Mentor_LastName', 'Mentor_Email',\n",
       "       'Mentor_JobTitle ', 'Mentor_GradeLevel', 'Mentor_Organization',\n",
       "       'Mentor_Department', 'Mentor_BusinessUnit', 'Mentor_TimeZone',\n",
       "       'Unnamed: 10', 'Mentor_Circle', 'Mentor_Goal', 'Mentor_Interest',\n",
       "       'Mentor_CLL', 'Mentor_Interestcount', 'Mentor_Eligibility',\n",
       "       'Mentor_wiads_past ', 'Mentor_mentor_past'],\n",
       "      dtype='object')"
      ]
     },
     "execution_count": 7,
     "metadata": {},
     "output_type": "execute_result"
    }
   ],
   "source": [
    "Mentor_df.columns"
   ]
  },
  {
   "cell_type": "code",
   "execution_count": 8,
   "id": "af05e096",
   "metadata": {},
   "outputs": [
    {
     "data": {
      "text/html": [
       "<div>\n",
       "<style scoped>\n",
       "    .dataframe tbody tr th:only-of-type {\n",
       "        vertical-align: middle;\n",
       "    }\n",
       "\n",
       "    .dataframe tbody tr th {\n",
       "        vertical-align: top;\n",
       "    }\n",
       "\n",
       "    .dataframe thead th {\n",
       "        text-align: right;\n",
       "    }\n",
       "</style>\n",
       "<table border=\"1\" class=\"dataframe\">\n",
       "  <thead>\n",
       "    <tr style=\"text-align: right;\">\n",
       "      <th></th>\n",
       "      <th>Mentor_ID</th>\n",
       "      <th>Mentor_FirstName</th>\n",
       "      <th>Mentor_LastName</th>\n",
       "      <th>Mentor_Email</th>\n",
       "      <th>Mentor_JobTitle</th>\n",
       "      <th>Mentor_GradeLevel</th>\n",
       "      <th>Mentor_Organization</th>\n",
       "      <th>Mentor_Department</th>\n",
       "      <th>Mentor_BusinessUnit</th>\n",
       "      <th>Mentor_TimeZone</th>\n",
       "      <th>Unnamed: 10</th>\n",
       "      <th>Mentor_Circle</th>\n",
       "      <th>Mentor_Goal</th>\n",
       "      <th>Mentor_Interest</th>\n",
       "      <th>Mentor_CLL</th>\n",
       "      <th>Mentor_Interestcount</th>\n",
       "      <th>Mentor_Eligibility</th>\n",
       "      <th>Mentor_wiads_past</th>\n",
       "      <th>Mentor_mentor_past</th>\n",
       "    </tr>\n",
       "  </thead>\n",
       "  <tbody>\n",
       "    <tr>\n",
       "      <th>0</th>\n",
       "      <td>1</td>\n",
       "      <td>First_1</td>\n",
       "      <td>Last_1</td>\n",
       "      <td>First_1.Last_1@corpitsvcs.com</td>\n",
       "      <td>JobTitle_1</td>\n",
       "      <td>27</td>\n",
       "      <td>UHC</td>\n",
       "      <td>Specialty benefits</td>\n",
       "      <td>dental</td>\n",
       "      <td>Eastern Standard Time (EST)</td>\n",
       "      <td>NaN</td>\n",
       "      <td>Mid Career (mentees are grades 28-30)</td>\n",
       "      <td>Depth of analytics experience from multiple pu...</td>\n",
       "      <td>Business Acumen ;Data Science Skill Developmen...</td>\n",
       "      <td>Collaborating;Taking Initiative and Risks;Deve...</td>\n",
       "      <td>141</td>\n",
       "      <td>Maybe</td>\n",
       "      <td>No</td>\n",
       "      <td>No</td>\n",
       "    </tr>\n",
       "    <tr>\n",
       "      <th>1</th>\n",
       "      <td>2</td>\n",
       "      <td>First_2</td>\n",
       "      <td>Last_2</td>\n",
       "      <td>First_2.Last_2@uhc.com</td>\n",
       "      <td>JobTitle_2</td>\n",
       "      <td>29</td>\n",
       "      <td>UHG Corporate</td>\n",
       "      <td>Medical Affairs</td>\n",
       "      <td>Clinical Modernization &amp; Transformation</td>\n",
       "      <td>Central Standard Time (CST)</td>\n",
       "      <td>NaN</td>\n",
       "      <td>Early Career (mentees are grades 27 and under)</td>\n",
       "      <td>I've been in several analytical roles across m...</td>\n",
       "      <td>Networking;Career in Data Analytics;Communicat...</td>\n",
       "      <td>Self-Management;Collaborating;Developing Other...</td>\n",
       "      <td>362</td>\n",
       "      <td>Yes</td>\n",
       "      <td>No</td>\n",
       "      <td>Yes</td>\n",
       "    </tr>\n",
       "  </tbody>\n",
       "</table>\n",
       "</div>"
      ],
      "text/plain": [
       "   Mentor_ID Mentor_FirstName Mentor_LastName                   Mentor_Email  \\\n",
       "0          1          First_1          Last_1  First_1.Last_1@corpitsvcs.com   \n",
       "1          2          First_2          Last_2         First_2.Last_2@uhc.com   \n",
       "\n",
       "  Mentor_JobTitle   Mentor_GradeLevel Mentor_Organization   Mentor_Department  \\\n",
       "0       JobTitle_1                 27                 UHC  Specialty benefits   \n",
       "1       JobTitle_2                 29       UHG Corporate     Medical Affairs   \n",
       "\n",
       "                       Mentor_BusinessUnit              Mentor_TimeZone  \\\n",
       "0                                  dental   Eastern Standard Time (EST)   \n",
       "1  Clinical Modernization & Transformation  Central Standard Time (CST)   \n",
       "\n",
       "   Unnamed: 10                                   Mentor_Circle  \\\n",
       "0          NaN           Mid Career (mentees are grades 28-30)   \n",
       "1          NaN  Early Career (mentees are grades 27 and under)   \n",
       "\n",
       "                                         Mentor_Goal  \\\n",
       "0  Depth of analytics experience from multiple pu...   \n",
       "1  I've been in several analytical roles across m...   \n",
       "\n",
       "                                     Mentor_Interest  \\\n",
       "0  Business Acumen ;Data Science Skill Developmen...   \n",
       "1  Networking;Career in Data Analytics;Communicat...   \n",
       "\n",
       "                                          Mentor_CLL  Mentor_Interestcount  \\\n",
       "0  Collaborating;Taking Initiative and Risks;Deve...                   141   \n",
       "1  Self-Management;Collaborating;Developing Other...                   362   \n",
       "\n",
       "  Mentor_Eligibility Mentor_wiads_past  Mentor_mentor_past  \n",
       "0              Maybe                 No                 No  \n",
       "1                Yes                 No                Yes  "
      ]
     },
     "execution_count": 8,
     "metadata": {},
     "output_type": "execute_result"
    }
   ],
   "source": [
    "Mentor_df.head(2)"
   ]
  },
  {
   "cell_type": "code",
   "execution_count": 12,
   "id": "a6c07807",
   "metadata": {},
   "outputs": [],
   "source": [
    "Circle_df = pd.read_excel('../data/eval/zps/finalOutput.xlsx', engine='openpyxl')"
   ]
  },
  {
   "cell_type": "code",
   "execution_count": 13,
   "id": "571934d4",
   "metadata": {},
   "outputs": [
    {
     "data": {
      "text/html": [
       "<div>\n",
       "<style scoped>\n",
       "    .dataframe tbody tr th:only-of-type {\n",
       "        vertical-align: middle;\n",
       "    }\n",
       "\n",
       "    .dataframe tbody tr th {\n",
       "        vertical-align: top;\n",
       "    }\n",
       "\n",
       "    .dataframe thead th {\n",
       "        text-align: right;\n",
       "    }\n",
       "</style>\n",
       "<table border=\"1\" class=\"dataframe\">\n",
       "  <thead>\n",
       "    <tr style=\"text-align: right;\">\n",
       "      <th></th>\n",
       "      <th>index</th>\n",
       "      <th>Unnamed: 0</th>\n",
       "      <th>ID</th>\n",
       "      <th>Start time</th>\n",
       "      <th>Completion time</th>\n",
       "      <th>Email</th>\n",
       "      <th>Name</th>\n",
       "      <th>First Name</th>\n",
       "      <th>Last Name</th>\n",
       "      <th>Email Address</th>\n",
       "      <th>...</th>\n",
       "      <th>Career Change</th>\n",
       "      <th>Business Acumen</th>\n",
       "      <th>Data Science Skill Development Resources</th>\n",
       "      <th>Leadership Skills Development</th>\n",
       "      <th>Communication Skills</th>\n",
       "      <th>Public Speaking</th>\n",
       "      <th>Story Telling</th>\n",
       "      <th>Personal Branding</th>\n",
       "      <th>What Will You Contribute to Your Circle?_y</th>\n",
       "      <th>menteesQualify</th>\n",
       "    </tr>\n",
       "  </thead>\n",
       "  <tbody>\n",
       "    <tr>\n",
       "      <th>0</th>\n",
       "      <td>0</td>\n",
       "      <td>0</td>\n",
       "      <td>2</td>\n",
       "      <td>2022-09-08 21:07:53</td>\n",
       "      <td>2022-09-08 21:20:46</td>\n",
       "      <td>First_2.Last_2@uhc.com</td>\n",
       "      <td>Last_2,First_2</td>\n",
       "      <td>First_2</td>\n",
       "      <td>Last_2</td>\n",
       "      <td>First_2.Last_2@uhc.com</td>\n",
       "      <td>...</td>\n",
       "      <td>0</td>\n",
       "      <td>0</td>\n",
       "      <td>0</td>\n",
       "      <td>0</td>\n",
       "      <td>1</td>\n",
       "      <td>0</td>\n",
       "      <td>0</td>\n",
       "      <td>0</td>\n",
       "      <td>I've been in several analytical roles across m...</td>\n",
       "      <td>[3, 4, 5, 6, 7, 8, 9]</td>\n",
       "    </tr>\n",
       "    <tr>\n",
       "      <th>1</th>\n",
       "      <td>1</td>\n",
       "      <td>1</td>\n",
       "      <td>3</td>\n",
       "      <td>2022-09-14 17:04:04</td>\n",
       "      <td>2022-09-14 17:12:41</td>\n",
       "      <td>First_3.Last_3@optum.com</td>\n",
       "      <td>Last_3,First_3</td>\n",
       "      <td>First_3</td>\n",
       "      <td>Last_3</td>\n",
       "      <td>First_3.Last_3@optum.com</td>\n",
       "      <td>...</td>\n",
       "      <td>0</td>\n",
       "      <td>0</td>\n",
       "      <td>0</td>\n",
       "      <td>1</td>\n",
       "      <td>0</td>\n",
       "      <td>0</td>\n",
       "      <td>0</td>\n",
       "      <td>0</td>\n",
       "      <td>I can help mentees develop a better understand...</td>\n",
       "      <td>[10, 11, 12, 13, 14, 15, 16]</td>\n",
       "    </tr>\n",
       "  </tbody>\n",
       "</table>\n",
       "<p>2 rows × 51 columns</p>\n",
       "</div>"
      ],
      "text/plain": [
       "   index  Unnamed: 0  ID          Start time     Completion time  \\\n",
       "0      0           0   2 2022-09-08 21:07:53 2022-09-08 21:20:46   \n",
       "1      1           1   3 2022-09-14 17:04:04 2022-09-14 17:12:41   \n",
       "\n",
       "                      Email            Name First Name Last Name  \\\n",
       "0    First_2.Last_2@uhc.com  Last_2,First_2    First_2    Last_2   \n",
       "1  First_3.Last_3@optum.com  Last_3,First_3    First_3    Last_3   \n",
       "\n",
       "              Email Address  ... Career Change Business Acumen  \\\n",
       "0    First_2.Last_2@uhc.com  ...             0               0   \n",
       "1  First_3.Last_3@optum.com  ...             0               0   \n",
       "\n",
       "  Data Science Skill Development Resources Leadership Skills Development  \\\n",
       "0                                        0                             0   \n",
       "1                                        0                             1   \n",
       "\n",
       "  Communication Skills Public Speaking Story Telling Personal Branding  \\\n",
       "0                    1               0             0                 0   \n",
       "1                    0               0             0                 0   \n",
       "\n",
       "          What Will You Contribute to Your Circle?_y  \\\n",
       "0  I've been in several analytical roles across m...   \n",
       "1  I can help mentees develop a better understand...   \n",
       "\n",
       "                 menteesQualify  \n",
       "0         [3, 4, 5, 6, 7, 8, 9]  \n",
       "1  [10, 11, 12, 13, 14, 15, 16]  \n",
       "\n",
       "[2 rows x 51 columns]"
      ]
     },
     "execution_count": 13,
     "metadata": {},
     "output_type": "execute_result"
    }
   ],
   "source": [
    "Circle_df = Circle_df.reset_index()\n",
    "Circle_df.head(2)"
   ]
  },
  {
   "cell_type": "markdown",
   "id": "b27a1337",
   "metadata": {},
   "source": [
    "Select only 3 columns"
   ]
  },
  {
   "cell_type": "code",
   "execution_count": 14,
   "id": "471ad5e0",
   "metadata": {},
   "outputs": [
    {
     "data": {
      "text/html": [
       "<div>\n",
       "<style scoped>\n",
       "    .dataframe tbody tr th:only-of-type {\n",
       "        vertical-align: middle;\n",
       "    }\n",
       "\n",
       "    .dataframe tbody tr th {\n",
       "        vertical-align: top;\n",
       "    }\n",
       "\n",
       "    .dataframe thead th {\n",
       "        text-align: right;\n",
       "    }\n",
       "</style>\n",
       "<table border=\"1\" class=\"dataframe\">\n",
       "  <thead>\n",
       "    <tr style=\"text-align: right;\">\n",
       "      <th></th>\n",
       "      <th>index</th>\n",
       "      <th>ID</th>\n",
       "      <th>menteesQualify</th>\n",
       "    </tr>\n",
       "  </thead>\n",
       "  <tbody>\n",
       "    <tr>\n",
       "      <th>0</th>\n",
       "      <td>0</td>\n",
       "      <td>2</td>\n",
       "      <td>[3, 4, 5, 6, 7, 8, 9]</td>\n",
       "    </tr>\n",
       "    <tr>\n",
       "      <th>1</th>\n",
       "      <td>1</td>\n",
       "      <td>3</td>\n",
       "      <td>[10, 11, 12, 13, 14, 15, 16]</td>\n",
       "    </tr>\n",
       "  </tbody>\n",
       "</table>\n",
       "</div>"
      ],
      "text/plain": [
       "   index  ID                menteesQualify\n",
       "0      0   2         [3, 4, 5, 6, 7, 8, 9]\n",
       "1      1   3  [10, 11, 12, 13, 14, 15, 16]"
      ]
     },
     "execution_count": 14,
     "metadata": {},
     "output_type": "execute_result"
    }
   ],
   "source": [
    "Circle_subset_df = Circle_df[['index','ID','menteesQualify']].loc[0:14,:]\n",
    "Circle_subset_df.head(2)"
   ]
  },
  {
   "cell_type": "markdown",
   "id": "4dd80b1a",
   "metadata": {},
   "source": [
    "https://stackoverflow.com/questions/53218931/how-to-unnest-explode-a-column-in-a-pandas-dataframe-into-multiple-rows\n",
    "https://towardsdatascience.com/how-to-quickly-create-and-unpack-lists-with-pandas-d0e78e487c75"
   ]
  },
  {
   "cell_type": "code",
   "execution_count": null,
   "id": "ffd40be8",
   "metadata": {},
   "outputs": [],
   "source": [
    "#The menteesQualify is a string represenation of list, convert to an actual list\n",
    "Circle_subset_df['MenteesList'] = Circle_subset_df.menteesQualify.apply(strToList)\n",
    "Circle_subset_df.drop('menteesQualify', axis=1, inplace=True)\n",
    "Circle_subset_df.head(2)"
   ]
  },
  {
   "cell_type": "code",
   "execution_count": null,
   "id": "0c89172f",
   "metadata": {},
   "outputs": [],
   "source": [
    "Circle_basic_df = Circle_subset_df.explode('MenteesList')\n",
    "Circle_basic_df = Circle_basic_df.rename({'index': 'Circle', 'ID': 'Mentor_ID', 'MenteesList':'Mentee_ID'}, axis=1)\n",
    "subset = Circle_basic_df[Circle_basic_df[\"Mentee_ID\"]==3]\n",
    "subset"
   ]
  },
  {
   "cell_type": "code",
   "execution_count": null,
   "id": "bc312842",
   "metadata": {},
   "outputs": [],
   "source": [
    "Circle_basic_df = Circle_basic_df.rename({'index':'Circle','Mentor ID': 'Mentor_ID', 'Mentee ID': 'Mentee_ID'}, axis=1)\n",
    "Circle_basic_df.head()"
   ]
  },
  {
   "cell_type": "code",
   "execution_count": null,
   "id": "3a6fe74f",
   "metadata": {},
   "outputs": [],
   "source": [
    "n_mentee = Mentee_df.Mentee_Email.nunique()\n",
    "n_mentee_count = Mentee_df.Mentee_Email.count()\n",
    "print(\"No.of.unique values \",n_mentee, n_mentee_count)"
   ]
  },
  {
   "cell_type": "code",
   "execution_count": null,
   "id": "7d1d52c1",
   "metadata": {},
   "outputs": [],
   "source": [
    "Cicle_basic_sorted_df = Circle_basic_df.sort_values(by=['Circle','Mentor_ID','Mentee_ID'], inplace=False, ignore_index= True)\n",
    "Cicle_basic_sorted_df.head()"
   ]
  },
  {
   "cell_type": "code",
   "execution_count": null,
   "id": "5f6a0769",
   "metadata": {},
   "outputs": [],
   "source": [
    "subset = Cicle_basic_sorted_df[Cicle_basic_sorted_df[\"Mentee_ID\"]==3]\n",
    "subset"
   ]
  },
  {
   "cell_type": "markdown",
   "id": "5ba48e4d",
   "metadata": {},
   "source": [
    "For each circle row, get the mentor and mentee information and create a detail dataframe\n",
    "\n",
    "• Organization/Department - Mentor and Mentee should not be in same Department. \n",
    "• Time Zones – Fit circles into similar time zones. Find difference of timezone between mentor and mentee\n",
    "• Grade Levels/Mentor Circle Levels – Anyone Grade level less than 28 should not be considered a mentor.\n",
    "• CLL Sort – Mentors strengths match the Mentees growth areas.\n",
    "• Areas of interest – Maximum match on areas of interest within a circle.\n",
    "• Circle size –The number of mentees a mentor has. The circles should be close in size.\n",
    "• Mentor grade error if mentor grade < 28\n",
    "\n",
    "\n"
   ]
  },
  {
   "cell_type": "code",
   "execution_count": null,
   "id": "c39594d4",
   "metadata": {},
   "outputs": [],
   "source": [
    "Result_Dictionary={}\n",
    "Result_DF = pd.DataFrame()"
   ]
  },
  {
   "cell_type": "code",
   "execution_count": null,
   "id": "c0ca7c5c",
   "metadata": {},
   "outputs": [],
   "source": [
    "Cicle_basic_sorted_dfdict = Cicle_basic_sorted_df.to_dict('records')\n",
    "\n",
    "for  circle_row in Cicle_basic_sorted_dfdict:\n",
    "    mentorId = circle_row['Mentor_ID']\n",
    "    menteeId = circle_row['Mentee_ID']\n",
    "    if (np.isnan(mentorId) or mentorId ==' ' or np.isnan(menteeId) or menteeId ==' '):\n",
    "        continue\n",
    "    else:            \n",
    "        mentor_row = Mentor_df[Mentor_df['Mentor_ID'] ==circle_row['Mentor_ID'] ]\n",
    "        mentee_row = Mentee_df[Mentee_df['Mentee_ID'] ==circle_row['Mentee_ID'] ]\n",
    "\n",
    "        result = validate_mentormentee(mentor_row, mentee_row, circle_row)\n",
    "        result['Mentor_Email'] = mentor_row['Mentor_Email'].iloc[0]\n",
    "        result['Mentee_Email'] = mentee_row['Mentee_Email'].iloc[0]\n",
    "        result['Mentor_Name'] = mentor_row['Mentor_FirstName'].iloc[0]+\" \"+mentor_row['Mentor_LastName'].iloc[0]\n",
    "        result['Mentee_Name'] = mentee_row['Mentee_First_Name'].iloc[0]+\" \"+mentee_row['Mentee_Last_Name'].iloc[0]\n",
    "        Result_DF = Result_DF.append(result, ignore_index=True)\n",
    "    "
   ]
  },
  {
   "cell_type": "code",
   "execution_count": null,
   "id": "6c2483f8",
   "metadata": {},
   "outputs": [],
   "source": [
    "Result_DF.head(2)"
   ]
  },
  {
   "cell_type": "markdown",
   "id": "ac48e701",
   "metadata": {},
   "source": [
    "Create a summary dataframe  \n",
    "• Count of members in cicle\n",
    "• Min Max on interests, CLL sort\n",
    "• Count of departments in cicle"
   ]
  },
  {
   "cell_type": "code",
   "execution_count": null,
   "id": "e8ac2666",
   "metadata": {},
   "outputs": [],
   "source": [
    "#Circle_basic_df.head()\n",
    "n_cir = Result_DF['Mentee_Email'].nunique()\n",
    "  \n",
    "print(\"No.of.unique values \",n_cir)"
   ]
  },
  {
   "cell_type": "code",
   "execution_count": null,
   "id": "b8c09cff",
   "metadata": {},
   "outputs": [],
   "source": [
    "\n",
    "# Groupby multiple columns & multiple aggregations\n",
    "grouped = Result_DF.groupby('Circle').aggregate({'Mentor_ID':['count','nunique'],'Mentee_ID':['count','nunique'],'Mentee_TimeZoneNum':['min','max'], 'Mentor_Eligible_Error':'sum', 'MentorMentee_Grade_Error':'sum','MentorMentee_DeptError':'sum','Mentee_Department':'nunique','Goal_Similarity':['min','max'],'Mentee_Grade':['min','max'],'Mentee_TimeZoneNum':['min','max'],'Mentor_Mentee_TimeZoneDist':['min','max'],'MentorMentee_CLL_Growth':['min','max'],'MentorMentee_Circle_Error':['sum'],'MentorMentee_Common_Interests':['min','max']})\n",
    "regroup_DF = grouped.reset_index()\n",
    "regroup_DF.head(2)"
   ]
  },
  {
   "cell_type": "markdown",
   "id": "3afd5946",
   "metadata": {},
   "source": [
    "Calculate Circle level Penalty and Bonus\n",
    "\n",
    "• Organization/Department - To encourage networking the circles mentees from the same organization should be split between different circles. Mentor and Mentee should not be in same Department.\n",
    "• Time Zones – Fit circles into similar time zones or within 2-hour differences. *International participants placed in eastern time zone groups.\n",
    "• Grade Levels/Mentor Circle Levels – Should not have more than three grade levels between participants. Appropriate grade level grouping of mentor and mentees. Circles should not have both Early Career and Mid Career members.\n",
    "Anyone Grade level less than 28 should not be considered a mentor.\n",
    "• CLL Sort – Mentors strengths match the Mentees growth areas.\n",
    "• Areas of interest – Maximum match on areas of interest within a circle.\n",
    "• Circle size –The number of mentees a mentor has. The circles should be close in size.\n"
   ]
  },
  {
   "cell_type": "code",
   "execution_count": null,
   "id": "6c705a15",
   "metadata": {},
   "outputs": [],
   "source": [
    "#Set Base Score as 100\n",
    "Base_Score = 100"
   ]
  },
  {
   "cell_type": "markdown",
   "id": "f4892b5a",
   "metadata": {},
   "source": [
    " Create Circle summary score and explanation`"
   ]
  },
  {
   "cell_type": "code",
   "execution_count": null,
   "id": "9805e4bd",
   "metadata": {},
   "outputs": [],
   "source": [
    "\n",
    "Mentee_Department_In_Circle_Error_Group = Result_DF.groupby(['Circle', 'Mentee_Department']).filter(lambda x: len(x) >= 2).Circle.unique()\n",
    "Circle_Penalty,Circle_Bonus, Circle_Summary_DF = calculateCircleLevelScore(regroup_DF, Mentee_Department_In_Circle_Error_Group)\n"
   ]
  },
  {
   "cell_type": "code",
   "execution_count": null,
   "id": "a80170e3",
   "metadata": {},
   "outputs": [],
   "source": [
    "Circle_Summary_DF.head(2)"
   ]
  },
  {
   "cell_type": "code",
   "execution_count": null,
   "id": "70da7273",
   "metadata": {},
   "outputs": [],
   "source": [
    "Circle_Summary_DF.columns"
   ]
  },
  {
   "cell_type": "code",
   "execution_count": null,
   "id": "215afbac",
   "metadata": {},
   "outputs": [],
   "source": [
    "print(\"Circle score is \",Circle_Bonus, Circle_Penalty)"
   ]
  },
  {
   "cell_type": "markdown",
   "id": "37a3eba6",
   "metadata": {},
   "source": [
    "Create high level statistics for easier evaluation of bonus and penalty points\n",
    "\n",
    "Penalty points:\n",
    "    Circle size > 10\n",
    "    Mentor and mentee are in same department\n",
    "    Number of mentees not matched to any mentor\n",
    "Bonus Points\n",
    "    Timezone \n",
    "    Grade Level distance <= 3\n",
    "    Drop mentors with grade level < 28\n",
    "      \n",
    "      \n",
    "• Max - Min circle size\n",
    "• Circle Size > 10\n",
    "• Number of mentees not in any circle\n",
    "• Number of mentors not in any circle\n",
    "• Duplicate entry for mentee"
   ]
  },
  {
   "cell_type": "code",
   "execution_count": null,
   "id": "1696f985",
   "metadata": {},
   "outputs": [],
   "source": [
    "#Get High Level Score \n",
    "(Summary_Score, Summary_Results) = createSummary(Result_DF, regroup_DF)\n"
   ]
  },
  {
   "cell_type": "code",
   "execution_count": null,
   "id": "f32526f6",
   "metadata": {},
   "outputs": [],
   "source": [
    "#Find unassigned mentors, mentees\n",
    "unassignedMentees = set(Mentee_df.Mentee_Email).difference(set(Result_DF.Mentee_Email))\n",
    "unassignedMentors = set(Mentor_df.Mentor_Email).difference(set(Result_DF.Mentor_Email))\n",
    "Summary_Results['Unassigned Mentees']=\";\".join(unassignedMentees)\n",
    "Summary_Results['Number of Unassigned Mentees']=len(unassignedMentees)\n",
    "Summary_Results['Unassigned Mentors']=\";\".join(unassignedMentors)\n",
    "Summary_Results['Number of Unassigned Mentors']=len(unassignedMentors)\n",
    "Summary_Score = (Summary_Score-2) if len(unassignedMentees) >=5 else Summary_Score"
   ]
  },
  {
   "cell_type": "code",
   "execution_count": null,
   "id": "724cc554",
   "metadata": {},
   "outputs": [],
   "source": [
    "#Add scores to Summary Results\n",
    "Final_Score = Base_Score + Circle_Bonus + Circle_Penalty + Summary_Score\n",
    "Summary_Results['Base Score'] = Base_Score\n",
    "Summary_Results['Circle Level Bonus'] = Circle_Bonus\n",
    "Summary_Results['Circle Level Penalty'] = Circle_Penalty\n",
    "Summary_Results['Summary Level Score'] = Summary_Score\n",
    "\n",
    "Summary_Results['Final Score'] = Final_Score"
   ]
  },
  {
   "cell_type": "code",
   "execution_count": null,
   "id": "cf085b38",
   "metadata": {},
   "outputs": [],
   "source": [
    "Summary_Results_DF = pd.DataFrame.from_dict(data=Summary_Results, orient='index', columns=['Result'])\n",
    "\n"
   ]
  },
  {
   "cell_type": "markdown",
   "id": "86e6d3e3",
   "metadata": {},
   "source": [
    "https://towardsdatascience.com/5-pandas-group-by-tricks-you-should-know-in-python-f53246c92c94"
   ]
  },
  {
   "cell_type": "code",
   "execution_count": null,
   "id": "c034acdd",
   "metadata": {},
   "outputs": [],
   "source": [
    "#Summary_Results_DF.columns"
   ]
  },
  {
   "cell_type": "code",
   "execution_count": null,
   "id": "4388889c",
   "metadata": {},
   "outputs": [],
   "source": [
    "Summary_Results_DF.index = Summary_Results_DF.index.set_names('Category')\n",
    " \n",
    "Summary_Results_DF.reset_index().head()"
   ]
  },
  {
   "cell_type": "code",
   "execution_count": null,
   "id": "061b4357",
   "metadata": {},
   "outputs": [],
   "source": [
    "# Create a Pandas Excel writer using XlsxWriter as the engine.\n",
    "writer = pd.ExcelWriter('Results_zps.xlsx', engine='xlsxwriter')\n",
    "\n",
    "# Write each dataframe to a different worksheet.\n",
    "Summary_Results_DF.to_excel(writer, sheet_name='highlevelsummary', header='False')\n",
    "Circle_Summary_DF.to_excel(writer, sheet_name='circlesummary')\n",
    "Result_DF.to_excel(writer, sheet_name='detail')\n",
    "\n",
    "writer.close()"
   ]
  },
  {
   "cell_type": "markdown",
   "id": "2eac0743",
   "metadata": {},
   "source": [
    "Group by Circle and Deprtment to check if not more than 2 mentees of same department are not in same circle"
   ]
  },
  {
   "cell_type": "code",
   "execution_count": null,
   "id": "2258f332",
   "metadata": {},
   "outputs": [],
   "source": []
  }
 ],
 "metadata": {
  "kernelspec": {
   "display_name": "Python 3 (ipykernel)",
   "language": "python",
   "name": "python3"
  },
  "language_info": {
   "codemirror_mode": {
    "name": "ipython",
    "version": 3
   },
   "file_extension": ".py",
   "mimetype": "text/x-python",
   "name": "python",
   "nbconvert_exporter": "python",
   "pygments_lexer": "ipython3",
   "version": "3.7.4"
  }
 },
 "nbformat": 4,
 "nbformat_minor": 5
}
