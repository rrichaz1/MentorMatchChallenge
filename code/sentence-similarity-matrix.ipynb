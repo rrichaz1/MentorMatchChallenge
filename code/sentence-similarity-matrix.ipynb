{
 "cells": [
  {
   "cell_type": "code",
   "execution_count": 1,
   "id": "5039634c",
   "metadata": {},
   "outputs": [],
   "source": [
    "import pandas as pd\n",
    "import numpy as np\n",
    "from utils import *\n"
   ]
  },
  {
   "cell_type": "code",
   "execution_count": 2,
   "id": "49f343c5",
   "metadata": {},
   "outputs": [],
   "source": [
    "#pip install sentence-transformers"
   ]
  },
  {
   "cell_type": "markdown",
   "id": "64410b7e",
   "metadata": {},
   "source": [
    "Load the datasets - Mentor/Mentee/Circle"
   ]
  },
  {
   "cell_type": "code",
   "execution_count": 3,
   "id": "d87afe72",
   "metadata": {},
   "outputs": [],
   "source": [
    "Mentee_df = pd.read_excel('../data/Mentee-obfuscated-dataset-1.xlsx', engine='openpyxl')"
   ]
  },
  {
   "cell_type": "code",
   "execution_count": 4,
   "id": "8f0bc4ed",
   "metadata": {},
   "outputs": [
    {
     "data": {
      "text/plain": [
       "Index(['Mentee_ID', 'Mentee_First_Name', 'Mentee_Last_Name', 'Mentee_Email',\n",
       "       'Mentee_Title', 'Mentee_GradeLevel', 'Mentee_Organization',\n",
       "       'Mentee_Department', 'Mentee_BusinessUnit', 'Mentee_TimeZone',\n",
       "       'Mentee_Circle', 'Mentee_Goal', 'Mentee_Interest', 'Mentee_CLL',\n",
       "       'Mentor_Interestcount', 'Mentee_Eligibility', 'Mentee_wiads_past'],\n",
       "      dtype='object')"
      ]
     },
     "execution_count": 4,
     "metadata": {},
     "output_type": "execute_result"
    }
   ],
   "source": [
    "Mentee_df.columns"
   ]
  },
  {
   "cell_type": "code",
   "execution_count": 5,
   "id": "5d938aa8",
   "metadata": {},
   "outputs": [
    {
     "data": {
      "text/plain": [
       "array(['Mid Career (grades 28-30)', 'Early Career (grades 27 and under)'],\n",
       "      dtype=object)"
      ]
     },
     "execution_count": 5,
     "metadata": {},
     "output_type": "execute_result"
    }
   ],
   "source": [
    "Mentee_df['Mentee_Circle'].unique()"
   ]
  },
  {
   "cell_type": "code",
   "execution_count": 6,
   "id": "7de15ac8",
   "metadata": {},
   "outputs": [
    {
     "data": {
      "text/plain": [
       "array(['Mid Career (mentees are grades 28-30)',\n",
       "       'Early Career (mentees are\\xa0grades 27 and under)'], dtype=object)"
      ]
     },
     "execution_count": 6,
     "metadata": {},
     "output_type": "execute_result"
    }
   ],
   "source": [
    "Mentor_df = pd.read_excel('../data/Mentor-obfuscated-dataset-1.xlsx', engine='openpyxl')\n",
    "Mentor_df['Mentor_Circle'].unique()"
   ]
  },
  {
   "cell_type": "code",
   "execution_count": 7,
   "id": "04065805",
   "metadata": {},
   "outputs": [
    {
     "data": {
      "text/plain": [
       "Index(['Mentor_ID', 'Mentor_FirstName', 'Mentor_LastName', 'Mentor_Email',\n",
       "       'Mentor_JobTitle ', 'Mentor_GradeLevel', 'Mentor_Organization',\n",
       "       'Mentor_Department', 'Mentor_BusinessUnit', 'Mentor_TimeZone',\n",
       "       'Mentor_Circle', 'Mentor_Interest', 'Mentor_CLL', 'Mentor_Goal',\n",
       "       'Mentor_Interestcount', 'Mentor_Eligibility', 'Mentor_wiads_past ',\n",
       "       'Mentor_mentor_past'],\n",
       "      dtype='object')"
      ]
     },
     "execution_count": 7,
     "metadata": {},
     "output_type": "execute_result"
    }
   ],
   "source": [
    "Mentor_df.columns"
   ]
  },
  {
   "cell_type": "markdown",
   "id": "b27a1337",
   "metadata": {},
   "source": [
    "Select only 3 columns"
   ]
  },
  {
   "cell_type": "code",
   "execution_count": 8,
   "id": "64d28d5f",
   "metadata": {},
   "outputs": [],
   "source": [
    "def make_similarity_matrix(MentorList, Menteelist):\n",
    "    \n",
    "    \n",
    "    # mapping from mentee to row\n",
    "    row_index = {value[0]: count for count, value in enumerate(MenteeList)}       \n",
    "    # mapping from mentor to column\n",
    "    col_index = {value[0]: count for count, value in enumerate(MentorList)}    \n",
    " \n",
    "    nrow = len(Menteelist)\n",
    "    ncol = len(MentorList)\n",
    "    similarity_matrix = np.zeros((nrow, ncol))\n",
    "    for menteeId, mentee_goal in MenteeList:\n",
    "        i = row_index[menteeId]\n",
    "        for mentorId, mentor_goal in MentorList:\n",
    "          j = col_index[mentorId]\n",
    "          similarity_matrix[i, j] = get_similarity(mentor_goal, mentee_goal)\n",
    "         \n",
    "    similarity_matrix = pd.DataFrame(similarity_matrix, index=row_index.keys(), columns=col_index.keys())\n",
    "    return similarity_matrix"
   ]
  },
  {
   "cell_type": "markdown",
   "id": "b4af2c8f",
   "metadata": {},
   "source": [
    "Get Mid Career"
   ]
  },
  {
   "cell_type": "code",
   "execution_count": 9,
   "id": "f82a87df",
   "metadata": {},
   "outputs": [],
   "source": [
    "MentorList =Mentor_df[Mentor_df['Mentor_Circle'] == 'Mid Career (mentees are grades 28-30)'][['Mentor_ID','Mentor_Goal']].values.tolist()\n",
    "MenteeList =Mentee_df[Mentee_df['Mentee_Circle'] == 'Mid Career (grades 28-30)'][['Mentee_ID','Mentee_Goal']].values.tolist()    "
   ]
  },
  {
   "cell_type": "code",
   "execution_count": 10,
   "id": "b32e724b",
   "metadata": {},
   "outputs": [],
   "source": [
    "mid_similarity_matrix = make_similarity_matrix(MentorList, MenteeList)"
   ]
  },
  {
   "cell_type": "code",
   "execution_count": 12,
   "id": "a15594d6",
   "metadata": {},
   "outputs": [
    {
     "data": {
      "text/html": [
       "<div>\n",
       "<style scoped>\n",
       "    .dataframe tbody tr th:only-of-type {\n",
       "        vertical-align: middle;\n",
       "    }\n",
       "\n",
       "    .dataframe tbody tr th {\n",
       "        vertical-align: top;\n",
       "    }\n",
       "\n",
       "    .dataframe thead th {\n",
       "        text-align: right;\n",
       "    }\n",
       "</style>\n",
       "<table border=\"1\" class=\"dataframe\">\n",
       "  <thead>\n",
       "    <tr style=\"text-align: right;\">\n",
       "      <th></th>\n",
       "      <th>1</th>\n",
       "      <th>4</th>\n",
       "      <th>9</th>\n",
       "      <th>10</th>\n",
       "      <th>11</th>\n",
       "      <th>13</th>\n",
       "      <th>16</th>\n",
       "      <th>17</th>\n",
       "    </tr>\n",
       "  </thead>\n",
       "  <tbody>\n",
       "    <tr>\n",
       "      <th>3</th>\n",
       "      <td>0.3814</td>\n",
       "      <td>0.4822</td>\n",
       "      <td>0.3240</td>\n",
       "      <td>0.0719</td>\n",
       "      <td>0.2540</td>\n",
       "      <td>0.3789</td>\n",
       "      <td>0.4473</td>\n",
       "      <td>0.2637</td>\n",
       "    </tr>\n",
       "    <tr>\n",
       "      <th>5</th>\n",
       "      <td>0.4244</td>\n",
       "      <td>0.4489</td>\n",
       "      <td>0.5750</td>\n",
       "      <td>0.2355</td>\n",
       "      <td>0.4444</td>\n",
       "      <td>0.5745</td>\n",
       "      <td>0.4889</td>\n",
       "      <td>0.5217</td>\n",
       "    </tr>\n",
       "    <tr>\n",
       "      <th>8</th>\n",
       "      <td>0.2395</td>\n",
       "      <td>0.1408</td>\n",
       "      <td>0.4166</td>\n",
       "      <td>0.0798</td>\n",
       "      <td>0.2787</td>\n",
       "      <td>0.2921</td>\n",
       "      <td>0.2775</td>\n",
       "      <td>0.2250</td>\n",
       "    </tr>\n",
       "    <tr>\n",
       "      <th>10</th>\n",
       "      <td>0.4522</td>\n",
       "      <td>0.4559</td>\n",
       "      <td>0.4815</td>\n",
       "      <td>0.2100</td>\n",
       "      <td>0.6074</td>\n",
       "      <td>0.6276</td>\n",
       "      <td>0.3741</td>\n",
       "      <td>0.4133</td>\n",
       "    </tr>\n",
       "    <tr>\n",
       "      <th>13</th>\n",
       "      <td>0.5085</td>\n",
       "      <td>0.4581</td>\n",
       "      <td>0.5399</td>\n",
       "      <td>0.2428</td>\n",
       "      <td>0.4507</td>\n",
       "      <td>0.6168</td>\n",
       "      <td>0.5635</td>\n",
       "      <td>0.4742</td>\n",
       "    </tr>\n",
       "  </tbody>\n",
       "</table>\n",
       "</div>"
      ],
      "text/plain": [
       "        1       4       9       10      11      13      16      17\n",
       "3   0.3814  0.4822  0.3240  0.0719  0.2540  0.3789  0.4473  0.2637\n",
       "5   0.4244  0.4489  0.5750  0.2355  0.4444  0.5745  0.4889  0.5217\n",
       "8   0.2395  0.1408  0.4166  0.0798  0.2787  0.2921  0.2775  0.2250\n",
       "10  0.4522  0.4559  0.4815  0.2100  0.6074  0.6276  0.3741  0.4133\n",
       "13  0.5085  0.4581  0.5399  0.2428  0.4507  0.6168  0.5635  0.4742"
      ]
     },
     "execution_count": 12,
     "metadata": {},
     "output_type": "execute_result"
    }
   ],
   "source": [
    "mid_similarity_matrix.head()"
   ]
  },
  {
   "cell_type": "code",
   "execution_count": 16,
   "id": "3dcc54e5",
   "metadata": {},
   "outputs": [],
   "source": [
    "mid_similarity_matrix.to_csv('mid_career_goal.csv', header=True)\n"
   ]
  },
  {
   "cell_type": "markdown",
   "id": "b118457c",
   "metadata": {},
   "source": [
    "Get early career"
   ]
  },
  {
   "cell_type": "code",
   "execution_count": 14,
   "id": "396729e2",
   "metadata": {},
   "outputs": [],
   "source": [
    "MentorList =Mentor_df[Mentor_df['Mentor_Circle'] != 'Mid Career (mentees are grades 28-30)'][['Mentor_ID','Mentor_Goal']].values.tolist()\n",
    "MenteeList =Mentee_df[Mentee_df['Mentee_Circle'] != 'Mid Career (grades 28-30)'][['Mentee_ID','Mentee_Goal']].values.tolist()    "
   ]
  },
  {
   "cell_type": "code",
   "execution_count": 15,
   "id": "20f508ea",
   "metadata": {},
   "outputs": [],
   "source": [
    "early_similarity_matrix = make_similarity_matrix(MentorList, MenteeList)\n"
   ]
  },
  {
   "cell_type": "code",
   "execution_count": 17,
   "id": "19cb0f91",
   "metadata": {},
   "outputs": [],
   "source": [
    "early_similarity_matrix.to_csv('early_career_goal.csv', header=True)"
   ]
  },
  {
   "cell_type": "code",
   "execution_count": null,
   "id": "a4c7ce05",
   "metadata": {},
   "outputs": [],
   "source": []
  }
 ],
 "metadata": {
  "kernelspec": {
   "display_name": "Python 3 (ipykernel)",
   "language": "python",
   "name": "python3"
  },
  "language_info": {
   "codemirror_mode": {
    "name": "ipython",
    "version": 3
   },
   "file_extension": ".py",
   "mimetype": "text/x-python",
   "name": "python",
   "nbconvert_exporter": "python",
   "pygments_lexer": "ipython3",
   "version": "3.7.4"
  }
 },
 "nbformat": 4,
 "nbformat_minor": 5
}
